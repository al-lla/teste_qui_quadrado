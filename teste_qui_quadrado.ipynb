{
 "cells": [
  {
   "cell_type": "markdown",
   "metadata": {
    "id": "661nQOjy6yZV"
   },
   "source": [
    "# Bibliotecas"
   ]
  },
  {
   "cell_type": "code",
   "execution_count": 1,
   "metadata": {
    "id": "XuDx2yXp5uJt"
   },
   "outputs": [],
   "source": [
    "# Manipulação de Dados\n",
    "import numpy as np\n",
    "import pandas as pd\n",
    "\n",
    "# Teste Qui-Quadrado\n",
    "from scipy.stats import chi2_contingency\n",
    "\n",
    "# Visualização\n",
    "import matplotlib.pyplot as plt\n",
    "import seaborn as sns"
   ]
  },
  {
   "cell_type": "markdown",
   "metadata": {
    "id": "Xg7WIN0T96lr"
   },
   "source": [
    "# __Base de dados__\n",
    "\n",
    "A base de dados utilizada nesse notebook foi retirada do [kaggle](https://www.kaggle.com/) em 12-09-2022.\n",
    "\n",
    "_Link para a base de dados original:_\n",
    "[Wrestling World Tournament](https://www.kaggle.com/datasets/julienjta/wrestling-world-tournament)"
   ]
  },
  {
   "cell_type": "code",
   "execution_count": 2,
   "metadata": {
    "id": "XIRBz03k958D"
   },
   "outputs": [],
   "source": [
    "df = pd.read_csv('./dataset/data.csv')"
   ]
  },
  {
   "cell_type": "code",
   "execution_count": 3,
   "metadata": {
    "colab": {
     "base_uri": "https://localhost:8080/",
     "height": 505
    },
    "id": "vDDb0q8295uH",
    "outputId": "fa705adb-5188-42d8-9d25-06ab0036d60a"
   },
   "outputs": [
    {
     "data": {
      "text/html": [
       "<div>\n",
       "<style scoped>\n",
       "    .dataframe tbody tr th:only-of-type {\n",
       "        vertical-align: middle;\n",
       "    }\n",
       "\n",
       "    .dataframe tbody tr th {\n",
       "        vertical-align: top;\n",
       "    }\n",
       "\n",
       "    .dataframe thead th {\n",
       "        text-align: right;\n",
       "    }\n",
       "</style>\n",
       "<table border=\"1\" class=\"dataframe\">\n",
       "  <thead>\n",
       "    <tr style=\"text-align: right;\">\n",
       "      <th></th>\n",
       "      <th>Unnamed: 0</th>\n",
       "      <th>name</th>\n",
       "      <th>gender</th>\n",
       "      <th>age</th>\n",
       "      <th>height</th>\n",
       "      <th>nationality</th>\n",
       "      <th>weight</th>\n",
       "      <th>sports</th>\n",
       "      <th>hours_per_day</th>\n",
       "      <th>strength</th>\n",
       "      <th>agility</th>\n",
       "      <th>mental</th>\n",
       "      <th>federation</th>\n",
       "      <th>year_start</th>\n",
       "      <th>rank</th>\n",
       "    </tr>\n",
       "  </thead>\n",
       "  <tbody>\n",
       "    <tr>\n",
       "      <th>0</th>\n",
       "      <td>0</td>\n",
       "      <td>Aaron Peavy</td>\n",
       "      <td>Female</td>\n",
       "      <td>41</td>\n",
       "      <td>165.0</td>\n",
       "      <td>England</td>\n",
       "      <td>82</td>\n",
       "      <td>Boxing, MMA</td>\n",
       "      <td>3</td>\n",
       "      <td>7</td>\n",
       "      <td>8</td>\n",
       "      <td>7</td>\n",
       "      <td>Fight Zone Wrestling</td>\n",
       "      <td>1989</td>\n",
       "      <td>42</td>\n",
       "    </tr>\n",
       "    <tr>\n",
       "      <th>1</th>\n",
       "      <td>1</td>\n",
       "      <td>Abe Rutland</td>\n",
       "      <td>Male</td>\n",
       "      <td>36</td>\n",
       "      <td>185.0</td>\n",
       "      <td>Japan</td>\n",
       "      <td>100</td>\n",
       "      <td>Judo</td>\n",
       "      <td>0</td>\n",
       "      <td>8</td>\n",
       "      <td>5</td>\n",
       "      <td>9</td>\n",
       "      <td>World Wrestling Entertainment</td>\n",
       "      <td>2006</td>\n",
       "      <td>161</td>\n",
       "    </tr>\n",
       "    <tr>\n",
       "      <th>2</th>\n",
       "      <td>2</td>\n",
       "      <td>Adrian Quinn</td>\n",
       "      <td>Male</td>\n",
       "      <td>29</td>\n",
       "      <td>178.5</td>\n",
       "      <td>Japan</td>\n",
       "      <td>93</td>\n",
       "      <td>Karate</td>\n",
       "      <td>4</td>\n",
       "      <td>8</td>\n",
       "      <td>8</td>\n",
       "      <td>7</td>\n",
       "      <td>World Wrestling Entertainment</td>\n",
       "      <td>2012</td>\n",
       "      <td>153</td>\n",
       "    </tr>\n",
       "    <tr>\n",
       "      <th>3</th>\n",
       "      <td>3</td>\n",
       "      <td>Alan Beckham</td>\n",
       "      <td>Male</td>\n",
       "      <td>39</td>\n",
       "      <td>187.5</td>\n",
       "      <td>Japan</td>\n",
       "      <td>107</td>\n",
       "      <td>Judo</td>\n",
       "      <td>3</td>\n",
       "      <td>7</td>\n",
       "      <td>6</td>\n",
       "      <td>8</td>\n",
       "      <td>Fight Zone Wrestling</td>\n",
       "      <td>2003</td>\n",
       "      <td>252</td>\n",
       "    </tr>\n",
       "    <tr>\n",
       "      <th>4</th>\n",
       "      <td>4</td>\n",
       "      <td>Albertha Rodriguez</td>\n",
       "      <td>Female</td>\n",
       "      <td>29</td>\n",
       "      <td>158.0</td>\n",
       "      <td>USA</td>\n",
       "      <td>72</td>\n",
       "      <td>MMA</td>\n",
       "      <td>1</td>\n",
       "      <td>5</td>\n",
       "      <td>7</td>\n",
       "      <td>7</td>\n",
       "      <td>Consejo Global de Lucha Libre</td>\n",
       "      <td>2012</td>\n",
       "      <td>360</td>\n",
       "    </tr>\n",
       "    <tr>\n",
       "      <th>...</th>\n",
       "      <td>...</td>\n",
       "      <td>...</td>\n",
       "      <td>...</td>\n",
       "      <td>...</td>\n",
       "      <td>...</td>\n",
       "      <td>...</td>\n",
       "      <td>...</td>\n",
       "      <td>...</td>\n",
       "      <td>...</td>\n",
       "      <td>...</td>\n",
       "      <td>...</td>\n",
       "      <td>...</td>\n",
       "      <td>...</td>\n",
       "      <td>...</td>\n",
       "      <td>...</td>\n",
       "    </tr>\n",
       "    <tr>\n",
       "      <th>495</th>\n",
       "      <td>495</td>\n",
       "      <td>Willie Durham</td>\n",
       "      <td>Male</td>\n",
       "      <td>34</td>\n",
       "      <td>185.5</td>\n",
       "      <td>France</td>\n",
       "      <td>104</td>\n",
       "      <td>Judo</td>\n",
       "      <td>2</td>\n",
       "      <td>9</td>\n",
       "      <td>6</td>\n",
       "      <td>5</td>\n",
       "      <td>Consejo Global de Lucha Libre</td>\n",
       "      <td>2008</td>\n",
       "      <td>353</td>\n",
       "    </tr>\n",
       "    <tr>\n",
       "      <th>496</th>\n",
       "      <td>496</td>\n",
       "      <td>Winnie Larsen</td>\n",
       "      <td>Female</td>\n",
       "      <td>31</td>\n",
       "      <td>161.5</td>\n",
       "      <td>France</td>\n",
       "      <td>71</td>\n",
       "      <td>Judo, Karate, Kick-Boxing, MMA</td>\n",
       "      <td>5</td>\n",
       "      <td>4</td>\n",
       "      <td>9</td>\n",
       "      <td>6</td>\n",
       "      <td>World Wrestling Entertainment</td>\n",
       "      <td>2003</td>\n",
       "      <td>74</td>\n",
       "    </tr>\n",
       "    <tr>\n",
       "      <th>497</th>\n",
       "      <td>497</td>\n",
       "      <td>Winston Wahl</td>\n",
       "      <td>Male</td>\n",
       "      <td>22</td>\n",
       "      <td>188.5</td>\n",
       "      <td>France</td>\n",
       "      <td>102</td>\n",
       "      <td>Kick-Boxing</td>\n",
       "      <td>3</td>\n",
       "      <td>8</td>\n",
       "      <td>8</td>\n",
       "      <td>7</td>\n",
       "      <td>Consejo Global de Lucha Libre</td>\n",
       "      <td>2021</td>\n",
       "      <td>265</td>\n",
       "    </tr>\n",
       "    <tr>\n",
       "      <th>498</th>\n",
       "      <td>498</td>\n",
       "      <td>Yolanda Yamashiro</td>\n",
       "      <td>Female</td>\n",
       "      <td>32</td>\n",
       "      <td>177.0</td>\n",
       "      <td>France</td>\n",
       "      <td>92</td>\n",
       "      <td>Judo</td>\n",
       "      <td>2</td>\n",
       "      <td>5</td>\n",
       "      <td>5</td>\n",
       "      <td>5</td>\n",
       "      <td>Consejo Global de Lucha Libre</td>\n",
       "      <td>2012</td>\n",
       "      <td>499</td>\n",
       "    </tr>\n",
       "    <tr>\n",
       "      <th>499</th>\n",
       "      <td>499</td>\n",
       "      <td>Zenaida Flagge</td>\n",
       "      <td>Female</td>\n",
       "      <td>21</td>\n",
       "      <td>170.5</td>\n",
       "      <td>France</td>\n",
       "      <td>85</td>\n",
       "      <td>Boxing, Judo, Kick-Boxing, MMA</td>\n",
       "      <td>4</td>\n",
       "      <td>6</td>\n",
       "      <td>10</td>\n",
       "      <td>5</td>\n",
       "      <td>Consejo Global de Lucha Libre</td>\n",
       "      <td>2011</td>\n",
       "      <td>92</td>\n",
       "    </tr>\n",
       "  </tbody>\n",
       "</table>\n",
       "<p>500 rows × 15 columns</p>\n",
       "</div>"
      ],
      "text/plain": [
       "     Unnamed: 0                name  gender  age  height nationality  weight  \\\n",
       "0             0         Aaron Peavy  Female   41   165.0     England      82   \n",
       "1             1         Abe Rutland    Male   36   185.0       Japan     100   \n",
       "2             2        Adrian Quinn    Male   29   178.5       Japan      93   \n",
       "3             3        Alan Beckham    Male   39   187.5       Japan     107   \n",
       "4             4  Albertha Rodriguez  Female   29   158.0         USA      72   \n",
       "..          ...                 ...     ...  ...     ...         ...     ...   \n",
       "495         495       Willie Durham    Male   34   185.5      France     104   \n",
       "496         496       Winnie Larsen  Female   31   161.5      France      71   \n",
       "497         497        Winston Wahl    Male   22   188.5      France     102   \n",
       "498         498   Yolanda Yamashiro  Female   32   177.0      France      92   \n",
       "499         499      Zenaida Flagge  Female   21   170.5      France      85   \n",
       "\n",
       "                             sports  hours_per_day  strength  agility  mental  \\\n",
       "0                       Boxing, MMA              3         7        8       7   \n",
       "1                              Judo              0         8        5       9   \n",
       "2                            Karate              4         8        8       7   \n",
       "3                              Judo              3         7        6       8   \n",
       "4                               MMA              1         5        7       7   \n",
       "..                              ...            ...       ...      ...     ...   \n",
       "495                            Judo              2         9        6       5   \n",
       "496  Judo, Karate, Kick-Boxing, MMA              5         4        9       6   \n",
       "497                     Kick-Boxing              3         8        8       7   \n",
       "498                            Judo              2         5        5       5   \n",
       "499  Boxing, Judo, Kick-Boxing, MMA              4         6       10       5   \n",
       "\n",
       "                        federation  year_start  rank  \n",
       "0             Fight Zone Wrestling        1989    42  \n",
       "1    World Wrestling Entertainment        2006   161  \n",
       "2    World Wrestling Entertainment        2012   153  \n",
       "3             Fight Zone Wrestling        2003   252  \n",
       "4    Consejo Global de Lucha Libre        2012   360  \n",
       "..                             ...         ...   ...  \n",
       "495  Consejo Global de Lucha Libre        2008   353  \n",
       "496  World Wrestling Entertainment        2003    74  \n",
       "497  Consejo Global de Lucha Libre        2021   265  \n",
       "498  Consejo Global de Lucha Libre        2012   499  \n",
       "499  Consejo Global de Lucha Libre        2011    92  \n",
       "\n",
       "[500 rows x 15 columns]"
      ]
     },
     "execution_count": 3,
     "metadata": {},
     "output_type": "execute_result"
    }
   ],
   "source": [
    "df"
   ]
  },
  {
   "cell_type": "markdown",
   "metadata": {},
   "source": [
    "A base acima conta com diferentes informações de 500 lutadores de 3 diferentes federações que competiram em lutas de 1 contra 1. A saber, as informações disponíveis são:\n",
    "\n",
    "1. Nome \n",
    "2. Gênero\n",
    "3. Idade\n",
    "4. Altura\n",
    "5. Nacionalidade\n",
    "6. Peso\n",
    "7. Arte marcial praticada\n",
    "8. Número de horas diárias gastas em treino\n",
    "9. Escore de força\n",
    "10. Escore de agilidade\n",
    "11. Escore de capaciedade mental\n",
    "12. Federação\n",
    "13. Ano de início no esporte\n",
    "14. Ranking final na competição"
   ]
  },
  {
   "cell_type": "markdown",
   "metadata": {},
   "source": [
    "## __O problema__\n",
    "\n",
    "Queremos analisar a base de dados a fim de entender se as diferentes características de cada lutador podem indicar uma posição maior ou menor no ranking final.\n",
    "\n",
    "Para solucionar esse problema, seria possível analisar cada uma das variáveis isoladamente e _observar como o comportamento delas pode mudar a depender do ranking_. Buscando automatizar esse processo e obter resultados mais confiáveis, podemos utilizar um teste estatístico para comparar as variáveis categóricas: o __teste qui-quadrado__."
   ]
  },
  {
   "cell_type": "markdown",
   "metadata": {
    "id": "HUtpcxBdrxmd"
   },
   "source": [
    "## __Explorando a Base__\n",
    "\n",
    "Uma boa forma de entendermos o comportamento das variáveis de nossa base de dados é com a utilização de histogramas."
   ]
  },
  {
   "cell_type": "markdown",
   "metadata": {},
   "source": [
    "É possível realizar o plot do histograma de cada variável pela biblioteca pandas"
   ]
  },
  {
   "cell_type": "code",
   "execution_count": 4,
   "metadata": {},
   "outputs": [
    {
     "data": {
      "image/png": "[encoded data removed]",
      "text/plain": [
       "<Figure size 432x288 with 1 Axes>"
      ]
     },
     "metadata": {
      "needs_background": "light"
     },
     "output_type": "display_data"
    }
   ],
   "source": [
    "df.gender.hist();"
   ]
  },
  {
   "cell_type": "markdown",
   "metadata": {},
   "source": [
    "Contudo, para termos uma visão geral da base, podemos utilizar um `for loop` para plotar o histograma de todas as variáveis de interesse"
   ]
  },
  {
   "cell_type": "code",
   "execution_count": 5,
   "metadata": {},
   "outputs": [
    {
     "data": {
      "image/png": "[encoded data removed]",
      "text/plain": [
       "<Figure size 720x432 with 1 Axes>"
      ]
     },
     "metadata": {
      "needs_background": "light"
     },
     "output_type": "display_data"
    },
    {
     "data": {
      "image/png": "[encoded data removed]",
      "text/plain": [
       "<Figure size 720x432 with 1 Axes>"
      ]
     },
     "metadata": {
      "needs_background": "light"
     },
     "output_type": "display_data"
    },
    {
     "data": {
      "image/png": "[encoded data removed]",
      "text/plain": [
       "<Figure size 720x432 with 1 Axes>"
      ]
     },
     "metadata": {
      "needs_background": "light"
     },
     "output_type": "display_data"
    },
    {
     "data": {
      "image/png": "[encoded data removed]",
      "text/plain": [
       "<Figure size 720x432 with 1 Axes>"
      ]
     },
     "metadata": {
      "needs_background": "light"
     },
     "output_type": "display_data"
    },
    {
     "data": {
      "image/png": "[encoded data removed]",
      "text/plain": [
       "<Figure size 720x432 with 1 Axes>"
      ]
     },
     "metadata": {
      "needs_background": "light"
     },
     "output_type": "display_data"
    },
    {
     "data": {
      "image/png": "[encoded data removed]",
      "text/plain": [
       "<Figure size 720x432 with 1 Axes>"
      ]
     },
     "metadata": {
      "needs_background": "light"
     },
     "output_type": "display_data"
    },
    {
     "data": {
      "image/png": "[encoded data removed]",
      "text/plain": [
       "<Figure size 720x432 with 1 Axes>"
      ]
     },
     "metadata": {
      "needs_background": "light"
     },
     "output_type": "display_data"
    },
    {
     "data": {
      "image/png": "[encoded data removed]",
      "text/plain": [
       "<Figure size 720x432 with 1 Axes>"
      ]
     },
     "metadata": {
      "needs_background": "light"
     },
     "output_type": "display_data"
    },
    {
     "data": {
      "image/png": "[encoded data removed]",
      "text/plain": [
       "<Figure size 720x432 with 1 Axes>"
      ]
     },
     "metadata": {
      "needs_background": "light"
     },
     "output_type": "display_data"
    },
    {
     "data": {
      "image/png": "[encoded data removed]",
      "text/plain": [
       "<Figure size 720x432 with 1 Axes>"
      ]
     },
     "metadata": {
      "needs_background": "light"
     },
     "output_type": "display_data"
    },
    {
     "data": {
      "image/png": "[encoded data removed]",
      "text/plain": [
       "<Figure size 720x432 with 1 Axes>"
      ]
     },
     "metadata": {
      "needs_background": "light"
     },
     "output_type": "display_data"
    },
    {
     "data": {
      "image/png": "[encoded data removed]",
      "text/plain": [
       "<Figure size 720x432 with 1 Axes>"
      ]
     },
     "metadata": {
      "needs_background": "light"
     },
     "output_type": "display_data"
    }
   ],
   "source": [
    "var = ['gender', 'age', 'height', 'nationality', 'weight', 'sports', 'hours_per_day', 'strength', 'agility', 'mental', 'rank', 'federation']\n",
    "\n",
    "for i in var:\n",
    "    plt.figure(figsize = (10, 6))\n",
    "    plt.hist(df[i]);\n",
    "    plt.title(f'Histograma da variável {i}')\n",
    "    plt.show()"
   ]
  },
  {
   "cell_type": "markdown",
   "metadata": {},
   "source": [
    "A partir dos histogramas, podemos observar algumas características das variáveis obtidas:\n",
    "\n",
    "1. Variáveis categóricas: gender, nationality, sports, federation\n",
    "2. Variáveis numéricas: age, height, weight, hours per day, strength, agility, mental\n",
    "\n",
    "Para comparar as variáveis numéricas com a variável `rank`, será necessário agrupá-las em intervalos para ser possível analisá-las em conjunto.\n",
    "Ademais, como a variável `sports` possui diversas opções combinadas, será necessário separar cada uma das variáveis em uma coluna."
   ]
  },
  {
   "cell_type": "markdown",
   "metadata": {},
   "source": [
    "### Criando variáveis categóricas"
   ]
  },
  {
   "cell_type": "markdown",
   "metadata": {},
   "source": [
    "#### Sports"
   ]
  },
  {
   "cell_type": "code",
   "execution_count": 6,
   "metadata": {},
   "outputs": [
    {
     "data": {
      "text/html": [
       "<div>\n",
       "<style scoped>\n",
       "    .dataframe tbody tr th:only-of-type {\n",
       "        vertical-align: middle;\n",
       "    }\n",
       "\n",
       "    .dataframe tbody tr th {\n",
       "        vertical-align: top;\n",
       "    }\n",
       "\n",
       "    .dataframe thead th {\n",
       "        text-align: right;\n",
       "    }\n",
       "</style>\n",
       "<table border=\"1\" class=\"dataframe\">\n",
       "  <thead>\n",
       "    <tr style=\"text-align: right;\">\n",
       "      <th></th>\n",
       "      <th>Boxing</th>\n",
       "      <th>Judo</th>\n",
       "      <th>Karate</th>\n",
       "      <th>Kick-Boxing</th>\n",
       "      <th>MMA</th>\n",
       "    </tr>\n",
       "  </thead>\n",
       "  <tbody>\n",
       "    <tr>\n",
       "      <th>0</th>\n",
       "      <td>1</td>\n",
       "      <td>0</td>\n",
       "      <td>0</td>\n",
       "      <td>0</td>\n",
       "      <td>1</td>\n",
       "    </tr>\n",
       "    <tr>\n",
       "      <th>1</th>\n",
       "      <td>0</td>\n",
       "      <td>1</td>\n",
       "      <td>0</td>\n",
       "      <td>0</td>\n",
       "      <td>0</td>\n",
       "    </tr>\n",
       "    <tr>\n",
       "      <th>2</th>\n",
       "      <td>0</td>\n",
       "      <td>0</td>\n",
       "      <td>1</td>\n",
       "      <td>0</td>\n",
       "      <td>0</td>\n",
       "    </tr>\n",
       "    <tr>\n",
       "      <th>3</th>\n",
       "      <td>0</td>\n",
       "      <td>1</td>\n",
       "      <td>0</td>\n",
       "      <td>0</td>\n",
       "      <td>0</td>\n",
       "    </tr>\n",
       "    <tr>\n",
       "      <th>4</th>\n",
       "      <td>0</td>\n",
       "      <td>0</td>\n",
       "      <td>0</td>\n",
       "      <td>0</td>\n",
       "      <td>1</td>\n",
       "    </tr>\n",
       "    <tr>\n",
       "      <th>...</th>\n",
       "      <td>...</td>\n",
       "      <td>...</td>\n",
       "      <td>...</td>\n",
       "      <td>...</td>\n",
       "      <td>...</td>\n",
       "    </tr>\n",
       "    <tr>\n",
       "      <th>495</th>\n",
       "      <td>0</td>\n",
       "      <td>1</td>\n",
       "      <td>0</td>\n",
       "      <td>0</td>\n",
       "      <td>0</td>\n",
       "    </tr>\n",
       "    <tr>\n",
       "      <th>496</th>\n",
       "      <td>0</td>\n",
       "      <td>1</td>\n",
       "      <td>1</td>\n",
       "      <td>1</td>\n",
       "      <td>1</td>\n",
       "    </tr>\n",
       "    <tr>\n",
       "      <th>497</th>\n",
       "      <td>0</td>\n",
       "      <td>0</td>\n",
       "      <td>0</td>\n",
       "      <td>1</td>\n",
       "      <td>0</td>\n",
       "    </tr>\n",
       "    <tr>\n",
       "      <th>498</th>\n",
       "      <td>0</td>\n",
       "      <td>1</td>\n",
       "      <td>0</td>\n",
       "      <td>0</td>\n",
       "      <td>0</td>\n",
       "    </tr>\n",
       "    <tr>\n",
       "      <th>499</th>\n",
       "      <td>1</td>\n",
       "      <td>1</td>\n",
       "      <td>0</td>\n",
       "      <td>1</td>\n",
       "      <td>1</td>\n",
       "    </tr>\n",
       "  </tbody>\n",
       "</table>\n",
       "<p>500 rows × 5 columns</p>\n",
       "</div>"
      ],
      "text/plain": [
       "     Boxing  Judo  Karate  Kick-Boxing  MMA\n",
       "0         1     0       0            0    1\n",
       "1         0     1       0            0    0\n",
       "2         0     0       1            0    0\n",
       "3         0     1       0            0    0\n",
       "4         0     0       0            0    1\n",
       "..      ...   ...     ...          ...  ...\n",
       "495       0     1       0            0    0\n",
       "496       0     1       1            1    1\n",
       "497       0     0       0            1    0\n",
       "498       0     1       0            0    0\n",
       "499       1     1       0            1    1\n",
       "\n",
       "[500 rows x 5 columns]"
      ]
     },
     "execution_count": 6,
     "metadata": {},
     "output_type": "execute_result"
    }
   ],
   "source": [
    "df.sports = df.sports.str.replace(' ', '') # retirar espaçamento entre sports\n",
    "df.sports.str.get_dummies(sep = ',') # criar variáveis dummies para cada esporte"
   ]
  },
  {
   "cell_type": "code",
   "execution_count": 7,
   "metadata": {},
   "outputs": [],
   "source": [
    "df = pd.concat([df, df.sports.str.get_dummies(sep = ',')], axis = 1) # adicionar a tabela gerada anteriormente ao dataframe\n",
    "\n",
    "# substituir 1 e 0 por yes e no\n",
    "for i in ['Boxing', 'Judo', 'Karate', 'Kick-Boxing', 'MMA']:\n",
    "    df[i] = np.where(df[i] == 1, 'Yes', 'No')\n",
    "\n",
    "df.drop(columns = 'sports', inplace = True) # remover a coluna de sports"
   ]
  },
  {
   "cell_type": "code",
   "execution_count": 8,
   "metadata": {},
   "outputs": [
    {
     "data": {
      "text/html": [
       "<div>\n",
       "<style scoped>\n",
       "    .dataframe tbody tr th:only-of-type {\n",
       "        vertical-align: middle;\n",
       "    }\n",
       "\n",
       "    .dataframe tbody tr th {\n",
       "        vertical-align: top;\n",
       "    }\n",
       "\n",
       "    .dataframe thead th {\n",
       "        text-align: right;\n",
       "    }\n",
       "</style>\n",
       "<table border=\"1\" class=\"dataframe\">\n",
       "  <thead>\n",
       "    <tr style=\"text-align: right;\">\n",
       "      <th></th>\n",
       "      <th>Unnamed: 0</th>\n",
       "      <th>name</th>\n",
       "      <th>gender</th>\n",
       "      <th>age</th>\n",
       "      <th>height</th>\n",
       "      <th>nationality</th>\n",
       "      <th>weight</th>\n",
       "      <th>hours_per_day</th>\n",
       "      <th>strength</th>\n",
       "      <th>agility</th>\n",
       "      <th>mental</th>\n",
       "      <th>federation</th>\n",
       "      <th>year_start</th>\n",
       "      <th>rank</th>\n",
       "      <th>Boxing</th>\n",
       "      <th>Judo</th>\n",
       "      <th>Karate</th>\n",
       "      <th>Kick-Boxing</th>\n",
       "      <th>MMA</th>\n",
       "    </tr>\n",
       "  </thead>\n",
       "  <tbody>\n",
       "    <tr>\n",
       "      <th>0</th>\n",
       "      <td>0</td>\n",
       "      <td>Aaron Peavy</td>\n",
       "      <td>Female</td>\n",
       "      <td>41</td>\n",
       "      <td>165.0</td>\n",
       "      <td>England</td>\n",
       "      <td>82</td>\n",
       "      <td>3</td>\n",
       "      <td>7</td>\n",
       "      <td>8</td>\n",
       "      <td>7</td>\n",
       "      <td>Fight Zone Wrestling</td>\n",
       "      <td>1989</td>\n",
       "      <td>42</td>\n",
       "      <td>Yes</td>\n",
       "      <td>No</td>\n",
       "      <td>No</td>\n",
       "      <td>No</td>\n",
       "      <td>Yes</td>\n",
       "    </tr>\n",
       "    <tr>\n",
       "      <th>1</th>\n",
       "      <td>1</td>\n",
       "      <td>Abe Rutland</td>\n",
       "      <td>Male</td>\n",
       "      <td>36</td>\n",
       "      <td>185.0</td>\n",
       "      <td>Japan</td>\n",
       "      <td>100</td>\n",
       "      <td>0</td>\n",
       "      <td>8</td>\n",
       "      <td>5</td>\n",
       "      <td>9</td>\n",
       "      <td>World Wrestling Entertainment</td>\n",
       "      <td>2006</td>\n",
       "      <td>161</td>\n",
       "      <td>No</td>\n",
       "      <td>Yes</td>\n",
       "      <td>No</td>\n",
       "      <td>No</td>\n",
       "      <td>No</td>\n",
       "    </tr>\n",
       "    <tr>\n",
       "      <th>2</th>\n",
       "      <td>2</td>\n",
       "      <td>Adrian Quinn</td>\n",
       "      <td>Male</td>\n",
       "      <td>29</td>\n",
       "      <td>178.5</td>\n",
       "      <td>Japan</td>\n",
       "      <td>93</td>\n",
       "      <td>4</td>\n",
       "      <td>8</td>\n",
       "      <td>8</td>\n",
       "      <td>7</td>\n",
       "      <td>World Wrestling Entertainment</td>\n",
       "      <td>2012</td>\n",
       "      <td>153</td>\n",
       "      <td>No</td>\n",
       "      <td>No</td>\n",
       "      <td>Yes</td>\n",
       "      <td>No</td>\n",
       "      <td>No</td>\n",
       "    </tr>\n",
       "    <tr>\n",
       "      <th>3</th>\n",
       "      <td>3</td>\n",
       "      <td>Alan Beckham</td>\n",
       "      <td>Male</td>\n",
       "      <td>39</td>\n",
       "      <td>187.5</td>\n",
       "      <td>Japan</td>\n",
       "      <td>107</td>\n",
       "      <td>3</td>\n",
       "      <td>7</td>\n",
       "      <td>6</td>\n",
       "      <td>8</td>\n",
       "      <td>Fight Zone Wrestling</td>\n",
       "      <td>2003</td>\n",
       "      <td>252</td>\n",
       "      <td>No</td>\n",
       "      <td>Yes</td>\n",
       "      <td>No</td>\n",
       "      <td>No</td>\n",
       "      <td>No</td>\n",
       "    </tr>\n",
       "    <tr>\n",
       "      <th>4</th>\n",
       "      <td>4</td>\n",
       "      <td>Albertha Rodriguez</td>\n",
       "      <td>Female</td>\n",
       "      <td>29</td>\n",
       "      <td>158.0</td>\n",
       "      <td>USA</td>\n",
       "      <td>72</td>\n",
       "      <td>1</td>\n",
       "      <td>5</td>\n",
       "      <td>7</td>\n",
       "      <td>7</td>\n",
       "      <td>Consejo Global de Lucha Libre</td>\n",
       "      <td>2012</td>\n",
       "      <td>360</td>\n",
       "      <td>No</td>\n",
       "      <td>No</td>\n",
       "      <td>No</td>\n",
       "      <td>No</td>\n",
       "      <td>Yes</td>\n",
       "    </tr>\n",
       "    <tr>\n",
       "      <th>...</th>\n",
       "      <td>...</td>\n",
       "      <td>...</td>\n",
       "      <td>...</td>\n",
       "      <td>...</td>\n",
       "      <td>...</td>\n",
       "      <td>...</td>\n",
       "      <td>...</td>\n",
       "      <td>...</td>\n",
       "      <td>...</td>\n",
       "      <td>...</td>\n",
       "      <td>...</td>\n",
       "      <td>...</td>\n",
       "      <td>...</td>\n",
       "      <td>...</td>\n",
       "      <td>...</td>\n",
       "      <td>...</td>\n",
       "      <td>...</td>\n",
       "      <td>...</td>\n",
       "      <td>...</td>\n",
       "    </tr>\n",
       "    <tr>\n",
       "      <th>495</th>\n",
       "      <td>495</td>\n",
       "      <td>Willie Durham</td>\n",
       "      <td>Male</td>\n",
       "      <td>34</td>\n",
       "      <td>185.5</td>\n",
       "      <td>France</td>\n",
       "      <td>104</td>\n",
       "      <td>2</td>\n",
       "      <td>9</td>\n",
       "      <td>6</td>\n",
       "      <td>5</td>\n",
       "      <td>Consejo Global de Lucha Libre</td>\n",
       "      <td>2008</td>\n",
       "      <td>353</td>\n",
       "      <td>No</td>\n",
       "      <td>Yes</td>\n",
       "      <td>No</td>\n",
       "      <td>No</td>\n",
       "      <td>No</td>\n",
       "    </tr>\n",
       "    <tr>\n",
       "      <th>496</th>\n",
       "      <td>496</td>\n",
       "      <td>Winnie Larsen</td>\n",
       "      <td>Female</td>\n",
       "      <td>31</td>\n",
       "      <td>161.5</td>\n",
       "      <td>France</td>\n",
       "      <td>71</td>\n",
       "      <td>5</td>\n",
       "      <td>4</td>\n",
       "      <td>9</td>\n",
       "      <td>6</td>\n",
       "      <td>World Wrestling Entertainment</td>\n",
       "      <td>2003</td>\n",
       "      <td>74</td>\n",
       "      <td>No</td>\n",
       "      <td>Yes</td>\n",
       "      <td>Yes</td>\n",
       "      <td>Yes</td>\n",
       "      <td>Yes</td>\n",
       "    </tr>\n",
       "    <tr>\n",
       "      <th>497</th>\n",
       "      <td>497</td>\n",
       "      <td>Winston Wahl</td>\n",
       "      <td>Male</td>\n",
       "      <td>22</td>\n",
       "      <td>188.5</td>\n",
       "      <td>France</td>\n",
       "      <td>102</td>\n",
       "      <td>3</td>\n",
       "      <td>8</td>\n",
       "      <td>8</td>\n",
       "      <td>7</td>\n",
       "      <td>Consejo Global de Lucha Libre</td>\n",
       "      <td>2021</td>\n",
       "      <td>265</td>\n",
       "      <td>No</td>\n",
       "      <td>No</td>\n",
       "      <td>No</td>\n",
       "      <td>Yes</td>\n",
       "      <td>No</td>\n",
       "    </tr>\n",
       "    <tr>\n",
       "      <th>498</th>\n",
       "      <td>498</td>\n",
       "      <td>Yolanda Yamashiro</td>\n",
       "      <td>Female</td>\n",
       "      <td>32</td>\n",
       "      <td>177.0</td>\n",
       "      <td>France</td>\n",
       "      <td>92</td>\n",
       "      <td>2</td>\n",
       "      <td>5</td>\n",
       "      <td>5</td>\n",
       "      <td>5</td>\n",
       "      <td>Consejo Global de Lucha Libre</td>\n",
       "      <td>2012</td>\n",
       "      <td>499</td>\n",
       "      <td>No</td>\n",
       "      <td>Yes</td>\n",
       "      <td>No</td>\n",
       "      <td>No</td>\n",
       "      <td>No</td>\n",
       "    </tr>\n",
       "    <tr>\n",
       "      <th>499</th>\n",
       "      <td>499</td>\n",
       "      <td>Zenaida Flagge</td>\n",
       "      <td>Female</td>\n",
       "      <td>21</td>\n",
       "      <td>170.5</td>\n",
       "      <td>France</td>\n",
       "      <td>85</td>\n",
       "      <td>4</td>\n",
       "      <td>6</td>\n",
       "      <td>10</td>\n",
       "      <td>5</td>\n",
       "      <td>Consejo Global de Lucha Libre</td>\n",
       "      <td>2011</td>\n",
       "      <td>92</td>\n",
       "      <td>Yes</td>\n",
       "      <td>Yes</td>\n",
       "      <td>No</td>\n",
       "      <td>Yes</td>\n",
       "      <td>Yes</td>\n",
       "    </tr>\n",
       "  </tbody>\n",
       "</table>\n",
       "<p>500 rows × 19 columns</p>\n",
       "</div>"
      ],
      "text/plain": [
       "     Unnamed: 0                name  gender  age  height nationality  weight  \\\n",
       "0             0         Aaron Peavy  Female   41   165.0     England      82   \n",
       "1             1         Abe Rutland    Male   36   185.0       Japan     100   \n",
       "2             2        Adrian Quinn    Male   29   178.5       Japan      93   \n",
       "3             3        Alan Beckham    Male   39   187.5       Japan     107   \n",
       "4             4  Albertha Rodriguez  Female   29   158.0         USA      72   \n",
       "..          ...                 ...     ...  ...     ...         ...     ...   \n",
       "495         495       Willie Durham    Male   34   185.5      France     104   \n",
       "496         496       Winnie Larsen  Female   31   161.5      France      71   \n",
       "497         497        Winston Wahl    Male   22   188.5      France     102   \n",
       "498         498   Yolanda Yamashiro  Female   32   177.0      France      92   \n",
       "499         499      Zenaida Flagge  Female   21   170.5      France      85   \n",
       "\n",
       "     hours_per_day  strength  agility  mental                     federation  \\\n",
       "0                3         7        8       7           Fight Zone Wrestling   \n",
       "1                0         8        5       9  World Wrestling Entertainment   \n",
       "2                4         8        8       7  World Wrestling Entertainment   \n",
       "3                3         7        6       8           Fight Zone Wrestling   \n",
       "4                1         5        7       7  Consejo Global de Lucha Libre   \n",
       "..             ...       ...      ...     ...                            ...   \n",
       "495              2         9        6       5  Consejo Global de Lucha Libre   \n",
       "496              5         4        9       6  World Wrestling Entertainment   \n",
       "497              3         8        8       7  Consejo Global de Lucha Libre   \n",
       "498              2         5        5       5  Consejo Global de Lucha Libre   \n",
       "499              4         6       10       5  Consejo Global de Lucha Libre   \n",
       "\n",
       "     year_start  rank Boxing Judo Karate Kick-Boxing  MMA  \n",
       "0          1989    42    Yes   No     No          No  Yes  \n",
       "1          2006   161     No  Yes     No          No   No  \n",
       "2          2012   153     No   No    Yes          No   No  \n",
       "3          2003   252     No  Yes     No          No   No  \n",
       "4          2012   360     No   No     No          No  Yes  \n",
       "..          ...   ...    ...  ...    ...         ...  ...  \n",
       "495        2008   353     No  Yes     No          No   No  \n",
       "496        2003    74     No  Yes    Yes         Yes  Yes  \n",
       "497        2021   265     No   No     No         Yes   No  \n",
       "498        2012   499     No  Yes     No          No   No  \n",
       "499        2011    92    Yes  Yes     No         Yes  Yes  \n",
       "\n",
       "[500 rows x 19 columns]"
      ]
     },
     "execution_count": 8,
     "metadata": {},
     "output_type": "execute_result"
    }
   ],
   "source": [
    "df"
   ]
  },
  {
   "cell_type": "markdown",
   "metadata": {},
   "source": [
    "#### Age, height, weight, hours_per_day, strenght, agility, mental, rank"
   ]
  },
  {
   "cell_type": "code",
   "execution_count": 9,
   "metadata": {},
   "outputs": [],
   "source": [
    "df['age_cat'] = pd.cut(df.age, bins = [18, 25, 28, 30, 33, 35, 60], labels = ['18-25', '26-28', '29-30', '31-33', '34-35', '36-60'], include_lowest = True)\n",
    "df['height_cat'] = pd.cut(df.height, bins = [150, 165, 170, 175, 180, 185, 205], labels = ['150-165', '166-170', '171-175', '176-180', '181-185', '186-205'], include_lowest = True)\n",
    "df['weight_cat'] = pd.cut(df.weight, bins = [65, 80, 85, 90, 95, 100, 125], labels = ['65-80', '81-85', '86-90', '91-95', '96-100', '101-125'], include_lowest = True)\n",
    "df['hours_per_day_cat'] = pd.cut(df.hours_per_day, bins = [0, 2, 4, 8], labels = ['0-2', '3-4', '5-8'], include_lowest = True)\n",
    "df['strength_cat'] = pd.cut(df.strength, bins = [0, 4, 6, 10], labels = ['0-4', '5-6', '7-10'], include_lowest = True)\n",
    "df['agility_cat'] = pd.cut(df.agility, bins = [0, 4, 6, 10], labels = ['0-4', '5-6', '7-10'], include_lowest = True)\n",
    "df['mental_cat'] = pd.cut(df.mental, bins = [0, 4, 6, 10], labels = ['0-4', '5-6', '7-10'], include_lowest = True)\n",
    "df['rank_cat'] = np.where(df['rank'] <= 100, '0-100',\n",
    "                         np.where(df['rank'] <= 200, '101-200',\n",
    "                                 np.where(df['rank'] <= 300, '201-300',\n",
    "                                         np.where(df['rank'] <= 400, '301-400', '401-500'))))"
   ]
  },
  {
   "cell_type": "markdown",
   "metadata": {
    "id": "Ot4z1gqgpO38"
   },
   "source": [
    "# __Teste Qui-Quadrado__\n",
    "\n",
    "Para realizar o teste Qui-Quadrado, precisamos escolher as variáveis que iremos testar."
   ]
  },
  {
   "cell_type": "code",
   "execution_count": 10,
   "metadata": {},
   "outputs": [
    {
     "data": {
      "text/plain": [
       "Index(['Unnamed: 0', 'name', 'gender', 'age', 'height', 'nationality',\n",
       "       'weight', 'hours_per_day', 'strength', 'agility', 'mental',\n",
       "       'federation', 'year_start', 'rank', 'Boxing', 'Judo', 'Karate',\n",
       "       'Kick-Boxing', 'MMA', 'age_cat', 'height_cat', 'weight_cat',\n",
       "       'hours_per_day_cat', 'strength_cat', 'agility_cat', 'mental_cat',\n",
       "       'rank_cat'],\n",
       "      dtype='object')"
      ]
     },
     "execution_count": 10,
     "metadata": {},
     "output_type": "execute_result"
    }
   ],
   "source": [
    "df.columns"
   ]
  },
  {
   "cell_type": "code",
   "execution_count": 11,
   "metadata": {
    "id": "eBbgvzhKK6hJ",
    "tags": []
   },
   "outputs": [],
   "source": [
    "var1 = 'rank_cat'\n",
    "var2 = 'gender'"
   ]
  },
  {
   "cell_type": "markdown",
   "metadata": {
    "id": "3lysYBiALwj1"
   },
   "source": [
    "Para realizar o teste Qui-Quadrado, é necessário construir uma tabela em que todos os valores da variável 1 sejam linhas e que todos os valores da variável 2 sejam colunas.\n",
    "\n",
    "Assim, cada célula $a_{ij}$, representará a ocorrência de observações com o valor $i$ para a variável 1 e o valor $j$ para a variável 2."
   ]
  },
  {
   "cell_type": "code",
   "execution_count": 12,
   "metadata": {
    "colab": {
     "base_uri": "https://localhost:8080/",
     "height": 143
    },
    "id": "VOmf_wTpK6ZZ",
    "outputId": "8cef2dd6-01f2-4a1b-d097-bfbe1adf16f6"
   },
   "outputs": [
    {
     "data": {
      "text/html": [
       "<div>\n",
       "<style scoped>\n",
       "    .dataframe tbody tr th:only-of-type {\n",
       "        vertical-align: middle;\n",
       "    }\n",
       "\n",
       "    .dataframe tbody tr th {\n",
       "        vertical-align: top;\n",
       "    }\n",
       "\n",
       "    .dataframe thead th {\n",
       "        text-align: right;\n",
       "    }\n",
       "</style>\n",
       "<table border=\"1\" class=\"dataframe\">\n",
       "  <thead>\n",
       "    <tr style=\"text-align: right;\">\n",
       "      <th>gender</th>\n",
       "      <th>Female</th>\n",
       "      <th>Male</th>\n",
       "    </tr>\n",
       "    <tr>\n",
       "      <th>rank_cat</th>\n",
       "      <th></th>\n",
       "      <th></th>\n",
       "    </tr>\n",
       "  </thead>\n",
       "  <tbody>\n",
       "    <tr>\n",
       "      <th>0-100</th>\n",
       "      <td>37</td>\n",
       "      <td>63</td>\n",
       "    </tr>\n",
       "    <tr>\n",
       "      <th>101-200</th>\n",
       "      <td>41</td>\n",
       "      <td>59</td>\n",
       "    </tr>\n",
       "    <tr>\n",
       "      <th>201-300</th>\n",
       "      <td>49</td>\n",
       "      <td>51</td>\n",
       "    </tr>\n",
       "    <tr>\n",
       "      <th>301-400</th>\n",
       "      <td>61</td>\n",
       "      <td>39</td>\n",
       "    </tr>\n",
       "    <tr>\n",
       "      <th>401-500</th>\n",
       "      <td>77</td>\n",
       "      <td>23</td>\n",
       "    </tr>\n",
       "  </tbody>\n",
       "</table>\n",
       "</div>"
      ],
      "text/plain": [
       "gender    Female  Male\n",
       "rank_cat              \n",
       "0-100         37    63\n",
       "101-200       41    59\n",
       "201-300       49    51\n",
       "301-400       61    39\n",
       "401-500       77    23"
      ]
     },
     "execution_count": 12,
     "metadata": {},
     "output_type": "execute_result"
    }
   ],
   "source": [
    "chi = pd.crosstab(df[var1], df[var2])\n",
    "chi"
   ]
  },
  {
   "cell_type": "markdown",
   "metadata": {
    "id": "b49nwIfWM7kZ"
   },
   "source": [
    "Com essa tabela, é possível calcular o teste Qui-Quadrado com a função `chi2_contingency` do pacote `scipy.stats`."
   ]
  },
  {
   "cell_type": "code",
   "execution_count": 13,
   "metadata": {
    "colab": {
     "base_uri": "https://localhost:8080/"
    },
    "id": "599dBSMeK6RV",
    "outputId": "14b69690-b40c-4f3f-9ba5-dea76b0e4f8f"
   },
   "outputs": [
    {
     "data": {
      "text/plain": [
       "(42.39261340826977,\n",
       " 1.3830620946286188e-08,\n",
       " 4,\n",
       " array([[53., 47.],\n",
       "        [53., 47.],\n",
       "        [53., 47.],\n",
       "        [53., 47.],\n",
       "        [53., 47.]]))"
      ]
     },
     "execution_count": 13,
     "metadata": {},
     "output_type": "execute_result"
    }
   ],
   "source": [
    "chi_scores = chi2_contingency(chi)\n",
    "chi_scores"
   ]
  },
  {
   "cell_type": "markdown",
   "metadata": {
    "id": "iHQIoNz8NW_w"
   },
   "source": [
    "O primeiro valor da tupla resultando indica o valor do teste:"
   ]
  },
  {
   "cell_type": "code",
   "execution_count": 14,
   "metadata": {
    "colab": {
     "base_uri": "https://localhost:8080/"
    },
    "id": "3FzhT5oKK6G6",
    "outputId": "46506927-82de-4bac-90e2-cd8337ffde3e"
   },
   "outputs": [
    {
     "data": {
      "text/plain": [
       "0    42.392613\n",
       "dtype: float64"
      ]
     },
     "execution_count": 14,
     "metadata": {},
     "output_type": "execute_result"
    }
   ],
   "source": [
    "scores = pd.Series(chi_scores[0])\n",
    "scores"
   ]
  },
  {
   "cell_type": "markdown",
   "metadata": {
    "id": "z9HxZmXSNjng"
   },
   "source": [
    "Já o segundo valor, representa o p-valor:"
   ]
  },
  {
   "cell_type": "code",
   "execution_count": 15,
   "metadata": {
    "colab": {
     "base_uri": "https://localhost:8080/"
    },
    "id": "tYuShbA5LQJT",
    "outputId": "21505d33-3f4f-4182-d071-3aa3f6d4ccdb"
   },
   "outputs": [
    {
     "data": {
      "text/plain": [
       "0    1.383062e-08\n",
       "dtype: float64"
      ]
     },
     "execution_count": 15,
     "metadata": {},
     "output_type": "execute_result"
    }
   ],
   "source": [
    "pvalues = pd.Series(chi_scores[1])\n",
    "pvalues"
   ]
  },
  {
   "cell_type": "markdown",
   "metadata": {
    "id": "9fkoiNItN3rv"
   },
   "source": [
    "## __Criando uma função__\n",
    "\n",
    "Para generalizar o trabalho que foi feito, podemos criar uma função que execute os mesmos passos para qualquer conjunto de dados."
   ]
  },
  {
   "cell_type": "code",
   "execution_count": 16,
   "metadata": {
    "id": "K8P8mtmALRRu"
   },
   "outputs": [],
   "source": [
    "def qui_quadrado(df, var1, var2):\n",
    "\n",
    "  chi = pd.crosstab(df[var1], df[var2])\n",
    "  chi_scores = chi2_contingency(chi)\n",
    "\n",
    "  scores = pd.Series(chi_scores[0])\n",
    "  pvalues = pd.Series(chi_scores[1])\n",
    "\n",
    "  d = {'Qui2': scores, 'p-Valor': pvalues}\n",
    "  chi_squared = pd.DataFrame(d)\n",
    "\n",
    "  # Renomear\n",
    "  d = {0: var2}\n",
    "  chi_squared = chi_squared.rename(d)\n",
    "\n",
    "  return chi_squared"
   ]
  },
  {
   "cell_type": "code",
   "execution_count": 17,
   "metadata": {
    "colab": {
     "base_uri": "https://localhost:8080/",
     "height": 81
    },
    "id": "VBOlUSuRLRJ7",
    "outputId": "9dab2d66-4e34-4d33-8651-424f3febcdd3"
   },
   "outputs": [
    {
     "data": {
      "text/html": [
       "<div>\n",
       "<style scoped>\n",
       "    .dataframe tbody tr th:only-of-type {\n",
       "        vertical-align: middle;\n",
       "    }\n",
       "\n",
       "    .dataframe tbody tr th {\n",
       "        vertical-align: top;\n",
       "    }\n",
       "\n",
       "    .dataframe thead th {\n",
       "        text-align: right;\n",
       "    }\n",
       "</style>\n",
       "<table border=\"1\" class=\"dataframe\">\n",
       "  <thead>\n",
       "    <tr style=\"text-align: right;\">\n",
       "      <th></th>\n",
       "      <th>Qui2</th>\n",
       "      <th>p-Valor</th>\n",
       "    </tr>\n",
       "  </thead>\n",
       "  <tbody>\n",
       "    <tr>\n",
       "      <th>gender</th>\n",
       "      <td>42.392613</td>\n",
       "      <td>1.383062e-08</td>\n",
       "    </tr>\n",
       "  </tbody>\n",
       "</table>\n",
       "</div>"
      ],
      "text/plain": [
       "             Qui2       p-Valor\n",
       "gender  42.392613  1.383062e-08"
      ]
     },
     "execution_count": 17,
     "metadata": {},
     "output_type": "execute_result"
    }
   ],
   "source": [
    "qui_quadrado(df, var1, var2)"
   ]
  },
  {
   "cell_type": "markdown",
   "metadata": {
    "id": "Q88WA99064np"
   },
   "source": [
    "# Utilizando um loop para automatizar o teste\n",
    "\n",
    "Ao utilizarmos uma estrutura de repetição, é possível generalizar a função anterior para que seja possível passar uma lista de variáveis a serem testadas.\n",
    "\n",
    "Como um bônus, também iremos reordenar a tabela exibida para que os menores p-valores apareçam primeiro."
   ]
  },
  {
   "cell_type": "code",
   "execution_count": 18,
   "metadata": {
    "id": "L32_bqZBPMtd"
   },
   "outputs": [],
   "source": [
    "def qui_quadrado(df, variavel, lista):\n",
    "\n",
    "  # Calcular Qui2 e p-valor para cada variável e colocar resultado num df\n",
    "  d = {'Qui2': [], 'p-Valor': []}\n",
    "\n",
    "  for l in lista:\n",
    "      \n",
    "      # Cria tabela que relaciona variável com Tipo de Consumidor\n",
    "      tab = pd.crosstab(df[variavel], df[l])\n",
    "\n",
    "      # Calcula o qui2 entre as duas variáveis\n",
    "      chi_scores = chi2_contingency(tab)\n",
    "\n",
    "      # Recupera o valor e p-value do teste\n",
    "      scores = pd.Series(chi_scores[0])\n",
    "      pvalues = pd.Series(chi_scores[1])\n",
    "\n",
    "      # Adiciona resultado ao dicionário\n",
    "      d['Qui2'].append(scores[0])\n",
    "      d['p-Valor'].append(pvalues[0])\n",
    "\n",
    "  # Transformar dicionário em dataframe\n",
    "  chi_squared = pd.DataFrame(d)\n",
    "\n",
    "  # Formato de visualização dos números\n",
    "  pd.options.display.float_format = \"{:,.2f}\".format\n",
    "\n",
    "  # Renomear linhas do df\n",
    "  for n, l in zip(np.arange(0, len(lista), 1), lista[0:len(lista)]):\n",
    "    chi_squared = chi_squared.rename(index = {n: l})\n",
    "\n",
    "  # Mostrar em ordem crescente para o p-valor\n",
    "  chi_squared = chi_squared.sort_values(by = 'p-Valor', ascending = True)\n",
    "\n",
    "  # Visualizar df\n",
    "  return chi_squared"
   ]
  },
  {
   "cell_type": "markdown",
   "metadata": {},
   "source": [
    "## Aplicando a função nas variáveis"
   ]
  },
  {
   "cell_type": "code",
   "execution_count": 19,
   "metadata": {},
   "outputs": [],
   "source": [
    "var = ['gender', 'nationality', 'federation', 'Boxing', 'Judo', 'Karate', 'Kick-Boxing', 'MMA', 'age_cat', 'height_cat',\n",
    "       'weight_cat', 'hours_per_day_cat', 'strength_cat', 'agility_cat', 'mental_cat']"
   ]
  },
  {
   "cell_type": "code",
   "execution_count": 20,
   "metadata": {
    "colab": {
     "base_uri": "https://localhost:8080/",
     "height": 582
    },
    "id": "vndxc2eKW1bE",
    "outputId": "56c74df4-cca5-4fc6-b430-570394689b8b"
   },
   "outputs": [
    {
     "data": {
      "text/html": [
       "<div>\n",
       "<style scoped>\n",
       "    .dataframe tbody tr th:only-of-type {\n",
       "        vertical-align: middle;\n",
       "    }\n",
       "\n",
       "    .dataframe tbody tr th {\n",
       "        vertical-align: top;\n",
       "    }\n",
       "\n",
       "    .dataframe thead th {\n",
       "        text-align: right;\n",
       "    }\n",
       "</style>\n",
       "<table border=\"1\" class=\"dataframe\">\n",
       "  <thead>\n",
       "    <tr style=\"text-align: right;\">\n",
       "      <th></th>\n",
       "      <th>Qui2</th>\n",
       "      <th>p-Valor</th>\n",
       "    </tr>\n",
       "  </thead>\n",
       "  <tbody>\n",
       "    <tr>\n",
       "      <th>MMA</th>\n",
       "      <td>176.77</td>\n",
       "      <td>0.00</td>\n",
       "    </tr>\n",
       "    <tr>\n",
       "      <th>hours_per_day_cat</th>\n",
       "      <td>117.13</td>\n",
       "      <td>0.00</td>\n",
       "    </tr>\n",
       "    <tr>\n",
       "      <th>strength_cat</th>\n",
       "      <td>80.90</td>\n",
       "      <td>0.00</td>\n",
       "    </tr>\n",
       "    <tr>\n",
       "      <th>mental_cat</th>\n",
       "      <td>56.37</td>\n",
       "      <td>0.00</td>\n",
       "    </tr>\n",
       "    <tr>\n",
       "      <th>gender</th>\n",
       "      <td>42.39</td>\n",
       "      <td>0.00</td>\n",
       "    </tr>\n",
       "    <tr>\n",
       "      <th>Kick-Boxing</th>\n",
       "      <td>32.48</td>\n",
       "      <td>0.00</td>\n",
       "    </tr>\n",
       "    <tr>\n",
       "      <th>agility_cat</th>\n",
       "      <td>39.62</td>\n",
       "      <td>0.00</td>\n",
       "    </tr>\n",
       "    <tr>\n",
       "      <th>weight_cat</th>\n",
       "      <td>51.41</td>\n",
       "      <td>0.00</td>\n",
       "    </tr>\n",
       "    <tr>\n",
       "      <th>Boxing</th>\n",
       "      <td>16.76</td>\n",
       "      <td>0.00</td>\n",
       "    </tr>\n",
       "    <tr>\n",
       "      <th>height_cat</th>\n",
       "      <td>42.00</td>\n",
       "      <td>0.00</td>\n",
       "    </tr>\n",
       "    <tr>\n",
       "      <th>age_cat</th>\n",
       "      <td>34.58</td>\n",
       "      <td>0.02</td>\n",
       "    </tr>\n",
       "    <tr>\n",
       "      <th>federation</th>\n",
       "      <td>13.88</td>\n",
       "      <td>0.08</td>\n",
       "    </tr>\n",
       "    <tr>\n",
       "      <th>Karate</th>\n",
       "      <td>4.82</td>\n",
       "      <td>0.31</td>\n",
       "    </tr>\n",
       "    <tr>\n",
       "      <th>Judo</th>\n",
       "      <td>4.04</td>\n",
       "      <td>0.40</td>\n",
       "    </tr>\n",
       "    <tr>\n",
       "      <th>nationality</th>\n",
       "      <td>22.13</td>\n",
       "      <td>0.78</td>\n",
       "    </tr>\n",
       "  </tbody>\n",
       "</table>\n",
       "</div>"
      ],
      "text/plain": [
       "                    Qui2  p-Valor\n",
       "MMA               176.77     0.00\n",
       "hours_per_day_cat 117.13     0.00\n",
       "strength_cat       80.90     0.00\n",
       "mental_cat         56.37     0.00\n",
       "gender             42.39     0.00\n",
       "Kick-Boxing        32.48     0.00\n",
       "agility_cat        39.62     0.00\n",
       "weight_cat         51.41     0.00\n",
       "Boxing             16.76     0.00\n",
       "height_cat         42.00     0.00\n",
       "age_cat            34.58     0.02\n",
       "federation         13.88     0.08\n",
       "Karate              4.82     0.31\n",
       "Judo                4.04     0.40\n",
       "nationality        22.13     0.78"
      ]
     },
     "execution_count": 20,
     "metadata": {},
     "output_type": "execute_result"
    }
   ],
   "source": [
    "qui_quadrado(df, 'rank_cat', var)"
   ]
  },
  {
   "cell_type": "markdown",
   "metadata": {},
   "source": [
    "Portanto, partindo de um _benchmark_ de 0.05 para o p-Valor, as variáveis `MMA`, `hours_per_day`, `strenght`, `mental`, `gender`, `Kick-Boxing`, `agility`, `weight`, `Boxing`, `height`, e `age` estão relacionadas com o _ranking_ final obtido."
   ]
  },
  {
   "cell_type": "markdown",
   "metadata": {},
   "source": [
    "## Mostrando graficamente a relação entre as variáveis"
   ]
  },
  {
   "cell_type": "markdown",
   "metadata": {},
   "source": [
    "### Funções"
   ]
  },
  {
   "cell_type": "code",
   "execution_count": 21,
   "metadata": {},
   "outputs": [],
   "source": [
    "def analise_bi(df, var1, var2, ordem_linhas, ordem_colunas):\n",
    "    \n",
    "    df_group = df.groupby([var1, var2])[var2].count().unstack(var2).fillna(0)\n",
    "\n",
    "    df_group = df_group.reindex(ordem_linhas)\n",
    "\n",
    "    # Reordenar colunas\n",
    "    df_group = df_group[ordem_colunas]\n",
    "\n",
    "    return df_group"
   ]
  },
  {
   "cell_type": "code",
   "execution_count": 22,
   "metadata": {},
   "outputs": [],
   "source": [
    "def barras_empilhadas_porcentagem(df_group, titulo, barWidth = 0.75):\n",
    "    \n",
    "    if len(df_group.columns) == 2:\n",
    "        \n",
    "        total = [ i+j for i, j in zip(df_group.iloc[:,0], df_group.iloc[:,1])]\n",
    "        bar1 = [ i / j * 100 for i, j in zip(df_group.iloc[:,0], total)]\n",
    "        bar2 = [ i / j * 100 for i, j in zip(df_group.iloc[:,1], total)]\n",
    "\n",
    "        r = df_group.index\n",
    "\n",
    "        # Barra 1\n",
    "        plt.bar(r, bar1, color = '#F54337', edgecolor = 'white', width = barWidth, label = df_group.columns[0])\n",
    "        # Barra 2\n",
    "        plt.bar(r, bar2, bottom = bar1, color = '#446BC4', edgecolor = 'white', width = barWidth, label = df_group.columns[1])\n",
    "\n",
    "    \n",
    "    elif len(df_group.columns) == 3:\n",
    "        \n",
    "        total = [ i+j+k for i, j, k in zip(df_group.iloc[:,0], df_group.iloc[:,1], df_group.iloc[:,2])]\n",
    "        bar1 = [ i / j * 100 for i, j in zip(df_group.iloc[:,0], total)]\n",
    "        bar2 = [ i / j * 100 for i, j in zip(df_group.iloc[:,1], total)]\n",
    "        bar3 = [ i / j * 100 for i, j in zip(df_group.iloc[:,2], total)]\n",
    "\n",
    "        r = df_group.index\n",
    "\n",
    "        # Barra 1\n",
    "        plt.bar(r, bar1, color = '#FFCC00', edgecolor = 'white', width = barWidth, label = df_group.columns[0])\n",
    "        # Barra 2\n",
    "        plt.bar(r, bar2, bottom = bar1, color = '#F39000', edgecolor = 'white', width = barWidth, label = df_group.columns[1])\n",
    "        # Barra 3\n",
    "        plt.bar(r, bar3, bottom = [i+j for i, j in zip(bar1, bar2)], color = '#F54337', edgecolor = 'white', width = barWidth, label = df_group.columns[2])\n",
    "           \n",
    "    elif len(df_group.columns) == 4:\n",
    "        \n",
    "        total = [ i+j+k+l for i, j, k, l in zip(df_group.iloc[:,0], df_group.iloc[:,1], df_group.iloc[:,2], df_group.iloc[:,3])]\n",
    "        bar1 = [ i / j * 100 for i, j in zip(df_group.iloc[:,0], total)]\n",
    "        bar2 = [ i / j * 100 for i, j in zip(df_group.iloc[:,1], total)]\n",
    "        bar3 = [ i / j * 100 for i, j in zip(df_group.iloc[:,2], total)]\n",
    "        bar4 = [ i / j * 100 for i, j in zip(df_group.iloc[:,3], total)]\n",
    "\n",
    "        r = df_group.index\n",
    "\n",
    "        # Barra 1\n",
    "        plt.bar(r, bar1, color = '#FFCC00', edgecolor = 'white', width = barWidth, label = df_group.columns[0])\n",
    "        # Barra 2\n",
    "        plt.bar(r, bar2, bottom = bar1, color = '#F39000', edgecolor = 'white', width = barWidth, label = df_group.columns[1])\n",
    "        # Barra 3\n",
    "        plt.bar(r, bar3, bottom = [i+j for i, j in zip(bar1, bar2)], color = '#F54337', edgecolor = 'white', width = barWidth, label = df_group.columns[2])\n",
    "        # Barra 4\n",
    "        plt.bar(r, bar4, bottom = [i+j+k for i, j, k in zip(bar1, bar2, bar3)], color = '#8C0046', edgecolor = 'white', width = barWidth, label = df_group.columns[3])\n",
    "    \n",
    "    elif len(df_group.columns) == 5:\n",
    "        \n",
    "        total = [ i+j+k+l+m for i, j, k, l, m in zip(df_group.iloc[:,0], df_group.iloc[:,1], df_group.iloc[:,2], df_group.iloc[:,3], df_group.iloc[:,4])]\n",
    "        bar1 = [ i / j * 100 for i, j in zip(df_group.iloc[:,0], total)]\n",
    "        bar2 = [ i / j * 100 for i, j in zip(df_group.iloc[:,1], total)]\n",
    "        bar3 = [ i / j * 100 for i, j in zip(df_group.iloc[:,2], total)]\n",
    "        bar4 = [ i / j * 100 for i, j in zip(df_group.iloc[:,3], total)]\n",
    "        bar5 = [ i / j * 100 for i, j in zip(df_group.iloc[:,4], total)]\n",
    "\n",
    "        r = df_group.index\n",
    "\n",
    "        # Barra 1\n",
    "        plt.bar(r, bar1, color = '#FFCC00', edgecolor = 'white', width = barWidth, label = df_group.columns[0])\n",
    "        # Barra 2\n",
    "        plt.bar(r, bar2, bottom = bar1, color = '#F39000', edgecolor = 'white', width = barWidth, label = df_group.columns[1])\n",
    "        # Barra 3\n",
    "        plt.bar(r, bar3, bottom = [i+j for i, j in zip(bar1, bar2)], color = '#F54337', edgecolor = 'white', width = barWidth, label = df_group.columns[2])\n",
    "        # Barra 4\n",
    "        plt.bar(r, bar4, bottom = [i+j+k for i, j, k in zip(bar1, bar2, bar3)], color = '#8C0046', edgecolor = 'white', width = barWidth, label = df_group.columns[3])\n",
    "        # Barra 5\n",
    "        plt.bar(r, bar5, bottom = [i+j+k+l for i, j, k, l in zip(bar1, bar2, bar3, bar4)], color = '#446BC4', edgecolor = 'white', width = barWidth, label = df_group.columns[4])\n",
    "            \n",
    "    elif len(df_group.columns) == 6:\n",
    "\n",
    "        total = [ i+j+k+l+m+n for i, j, k, l, m, n in zip(df_group.iloc[:,0], df_group.iloc[:,1], df_group.iloc[:,2], df_group.iloc[:,3], df_group.iloc[:,4], df_group.iloc[:,5])]\n",
    "        bar1 = [ i / j * 100 for i, j in zip(df_group.iloc[:,0], total)]\n",
    "        bar2 = [ i / j * 100 for i, j in zip(df_group.iloc[:,1], total)]\n",
    "        bar3 = [ i / j * 100 for i, j in zip(df_group.iloc[:,2], total)]\n",
    "        bar4 = [ i / j * 100 for i, j in zip(df_group.iloc[:,3], total)]\n",
    "        bar5 = [ i / j * 100 for i, j in zip(df_group.iloc[:,4], total)]\n",
    "        bar6 = [ i / j * 100 for i, j in zip(df_group.iloc[:,5], total)]\n",
    "\n",
    "        r = df_group.index\n",
    "\n",
    "        # Barra 1\n",
    "        plt.bar(r, bar1, color = '#FFCC00', edgecolor = 'white', width = barWidth, label = df_group.columns[0])\n",
    "        # Barra 2\n",
    "        plt.bar(r, bar2, bottom = bar1, color = '#F39000', edgecolor = 'white', width = barWidth, label = df_group.columns[1])\n",
    "        # Barra 3\n",
    "        plt.bar(r, bar3, bottom = [i+j for i, j in zip(bar1, bar2)], color = '#F54337', edgecolor = 'white', width = barWidth, label = df_group.columns[2])\n",
    "        # Barra 4\n",
    "        plt.bar(r, bar4, bottom = [i+j+k for i, j, k in zip(bar1, bar2, bar3)], color = '#8C0046', edgecolor = 'white', width = barWidth, label = df_group.columns[3])\n",
    "        # Barra 5\n",
    "        plt.bar(r, bar5, bottom = [i+j+k+l for i, j, k, l in zip(bar1, bar2, bar3, bar4)], color = '#446BC4', edgecolor = 'white', width = barWidth, label = df_group.columns[4])\n",
    "        # Barra 6\n",
    "        plt.bar(r, bar6, bottom = [i+j+k+l+m for i, j, k, l, m in zip(bar1, bar2, bar3, bar4, bar5)], color = '#009EBF', edgecolor = 'white', width = barWidth, label = df_group.columns[5])\n",
    "\n",
    "    elif len(df_group.columns) == 7:\n",
    "\n",
    "        total = [ i+j+k+l+m+n+o for i, j, k, l, m, n, o in zip(df_group.iloc[:,0], df_group.iloc[:,1], df_group.iloc[:,2], df_group.iloc[:,3], df_group.iloc[:,4], df_group.iloc[:,5], df_group.iloc[:,6])]\n",
    "        bar1 = [ i / j * 100 for i, j in zip(df_group.iloc[:,0], total)]\n",
    "        bar2 = [ i / j * 100 for i, j in zip(df_group.iloc[:,1], total)]\n",
    "        bar3 = [ i / j * 100 for i, j in zip(df_group.iloc[:,2], total)]\n",
    "        bar4 = [ i / j * 100 for i, j in zip(df_group.iloc[:,3], total)]\n",
    "        bar5 = [ i / j * 100 for i, j in zip(df_group.iloc[:,4], total)]\n",
    "        bar6 = [ i / j * 100 for i, j in zip(df_group.iloc[:,5], total)]\n",
    "        bar7 = [ i / j * 100 for i, j in zip(df_group.iloc[:,6], total)]\n",
    "\n",
    "        r = df_group.index\n",
    "\n",
    "        # Barra 1\n",
    "        plt.bar(r, bar1, color = '#FFCC00', edgecolor = 'white', width = barWidth, label = df_group.columns[0])\n",
    "        # Barra 2\n",
    "        plt.bar(r, bar2, bottom = bar1, color = '#F39000', edgecolor = 'white', width = barWidth, label = df_group.columns[1])\n",
    "        # Barra 3\n",
    "        plt.bar(r, bar3, bottom = [i+j for i, j in zip(bar1, bar2)], color = '#F54337', edgecolor = 'white', width = barWidth, label = df_group.columns[2])\n",
    "        # Barra 4\n",
    "        plt.bar(r, bar4, bottom = [i+j+k for i, j, k in zip(bar1, bar2, bar3)], color = '#8C0046', edgecolor = 'white', width = barWidth, label = df_group.columns[3])\n",
    "        # Barra 5\n",
    "        plt.bar(r, bar5, bottom = [i+j+k+l for i, j, k, l in zip(bar1, bar2, bar3, bar4)], color = '#446BC4', edgecolor = 'white', width = barWidth, label = df_group.columns[4])\n",
    "        # Barra 6\n",
    "        plt.bar(r, bar6, bottom = [i+j+k+l+m for i, j, k, l, m in zip(bar1, bar2, bar3, bar4, bar5)], color = '#009EBF', edgecolor = 'white', width = barWidth, label = df_group.columns[5])\n",
    "        # Barra 7\n",
    "        plt.bar(r, bar7, bottom = [i+j+k+l+m+n for i, j, k, l, m, n in zip(bar1, bar2, bar3, bar4, bar5, bar6)], color = '#2FD07B', edgecolor = 'white', width = barWidth, label = df_group.columns[6])\n",
    "        \n",
    "    else:\n",
    "        return print('Número de categorias inválido')\n",
    "    \n",
    "    # Linha horizontal\n",
    "    plt.axhline(linewidth = 2, color = 'black')\n",
    "\n",
    "    # Adicionar titulo\n",
    "    plt.title(titulo, fontsize = 16, pad = 20);\n",
    "\n",
    "    # Adicionar legenda\n",
    "    plt.legend(loc = 'lower center', bbox_to_anchor = (0.5, -0.17), ncol = 3, frameon = False)\n",
    "\n",
    "    # Remover eixo y\n",
    "    plt.yticks([])\n",
    "\n",
    "    # Remover ticks\n",
    "    plt.tick_params(left = False)\n",
    "    plt.tick_params(bottom = False)\n",
    "\n",
    "    # Alterar tamanho e salvar gráfico\n",
    "    fig = plt.gcf()\n",
    "    fig.set_size_inches(13, 8)\n",
    "\n",
    "    # Mostrar gráfico\n",
    "    plt.show()"
   ]
  },
  {
   "cell_type": "markdown",
   "metadata": {},
   "source": [
    "### Relação entre variáveis"
   ]
  },
  {
   "cell_type": "code",
   "execution_count": 23,
   "metadata": {},
   "outputs": [
    {
     "data": {
      "image/png": "[encoded data removed]",
      "text/plain": [
       "<Figure size 936x576 with 1 Axes>"
      ]
     },
     "metadata": {
      "needs_background": "light"
     },
     "output_type": "display_data"
    }
   ],
   "source": [
    "var1 = 'rank_cat'\n",
    "var2 = 'MMA'\n",
    "\n",
    "ordem_linhas = ['401-500',\n",
    "                '301-400',\n",
    "                '201-300',\n",
    "                '101-200',\n",
    "                '0-100']\n",
    "\n",
    "ordem_colunas = ['No',\n",
    "                 'Yes']\n",
    "\n",
    "rank_MMA = analise_bi(df, var1, var2, ordem_linhas, ordem_colunas)\n",
    "titulo = 'Ranking final por lutadores de MMA'\n",
    "\n",
    "barras_empilhadas_porcentagem(rank_MMA, titulo)"
   ]
  },
  {
   "cell_type": "code",
   "execution_count": 24,
   "metadata": {},
   "outputs": [
    {
     "data": {
      "image/png": "[encoded data removed]",
      "text/plain": [
       "<Figure size 936x576 with 1 Axes>"
      ]
     },
     "metadata": {
      "needs_background": "light"
     },
     "output_type": "display_data"
    }
   ],
   "source": [
    "var1 = 'rank_cat'\n",
    "var2 = 'hours_per_day_cat'\n",
    "\n",
    "ordem_linhas = ['401-500',\n",
    "                '301-400',\n",
    "                '201-300',\n",
    "                '101-200',\n",
    "                '0-100']\n",
    "\n",
    "ordem_colunas = ['0-2',\n",
    "                 '3-4',\n",
    "                 '5-8']\n",
    "\n",
    "rank_hours = analise_bi(df, var1, var2, ordem_linhas, ordem_colunas)\n",
    "titulo = 'Ranking final por horas diárias de treino'\n",
    "\n",
    "barras_empilhadas_porcentagem(rank_hours, titulo)"
   ]
  },
  {
   "cell_type": "code",
   "execution_count": 25,
   "metadata": {},
   "outputs": [
    {
     "data": {
      "image/png": "[encoded data removed]",
      "text/plain": [
       "<Figure size 936x576 with 1 Axes>"
      ]
     },
     "metadata": {
      "needs_background": "light"
     },
     "output_type": "display_data"
    }
   ],
   "source": [
    "var1 = 'rank_cat'\n",
    "var2 = 'strength_cat'\n",
    "\n",
    "ordem_linhas = ['401-500',\n",
    "                '301-400',\n",
    "                '201-300',\n",
    "                '101-200',\n",
    "                '0-100']\n",
    "\n",
    "ordem_colunas = ['0-4',\n",
    "                 '5-6',\n",
    "                 '7-10']\n",
    "\n",
    "rank_strength = analise_bi(df, var1, var2, ordem_linhas, ordem_colunas)\n",
    "titulo = 'Ranking final por escore de força'\n",
    "\n",
    "barras_empilhadas_porcentagem(rank_strength, titulo)"
   ]
  },
  {
   "cell_type": "code",
   "execution_count": 26,
   "metadata": {},
   "outputs": [
    {
     "data": {
      "image/png": "[encoded data removed]",
      "text/plain": [
       "<Figure size 936x576 with 1 Axes>"
      ]
     },
     "metadata": {
      "needs_background": "light"
     },
     "output_type": "display_data"
    }
   ],
   "source": [
    "var1 = 'rank_cat'\n",
    "var2 = 'mental_cat'\n",
    "\n",
    "ordem_linhas = ['401-500',\n",
    "                '301-400',\n",
    "                '201-300',\n",
    "                '101-200',\n",
    "                '0-100']\n",
    "\n",
    "ordem_colunas = ['0-4',\n",
    "                 '5-6',\n",
    "                 '7-10']\n",
    "\n",
    "rank_mental = analise_bi(df, var1, var2, ordem_linhas, ordem_colunas)\n",
    "titulo = 'Ranking final por escore de mentalidade'\n",
    "\n",
    "barras_empilhadas_porcentagem(rank_mental, titulo)"
   ]
  },
  {
   "cell_type": "code",
   "execution_count": 27,
   "metadata": {},
   "outputs": [
    {
     "data": {
      "image/png": "[encoded data removed]",
      "text/plain": [
       "<Figure size 936x576 with 1 Axes>"
      ]
     },
     "metadata": {
      "needs_background": "light"
     },
     "output_type": "display_data"
    }
   ],
   "source": [
    "var1 = 'rank_cat'\n",
    "var2 = 'gender'\n",
    "\n",
    "ordem_linhas = ['401-500',\n",
    "                '301-400',\n",
    "                '201-300',\n",
    "                '101-200',\n",
    "                '0-100']\n",
    "\n",
    "ordem_colunas = ['Female',\n",
    "                 'Male']\n",
    "\n",
    "rank_gender = analise_bi(df, var1, var2, ordem_linhas, ordem_colunas)\n",
    "titulo = 'Ranking final por gênero'\n",
    "\n",
    "barras_empilhadas_porcentagem(rank_gender, titulo)"
   ]
  },
  {
   "cell_type": "code",
   "execution_count": 28,
   "metadata": {
    "tags": []
   },
   "outputs": [
    {
     "data": {
      "image/png": "[encoded data removed]",
      "text/plain": [
       "<Figure size 936x576 with 1 Axes>"
      ]
     },
     "metadata": {
      "needs_background": "light"
     },
     "output_type": "display_data"
    }
   ],
   "source": [
    "var1 = 'rank_cat'\n",
    "var2 = 'Kick-Boxing'\n",
    "\n",
    "ordem_linhas = ['401-500',\n",
    "                '301-400',\n",
    "                '201-300',\n",
    "                '101-200',\n",
    "                '0-100']\n",
    "\n",
    "ordem_colunas = ['No',\n",
    "                 'Yes']\n",
    "\n",
    "rank_kickboxing = analise_bi(df, var1, var2, ordem_linhas, ordem_colunas)\n",
    "titulo = 'Ranking final por lutadores de Kick-Boxing'\n",
    "\n",
    "barras_empilhadas_porcentagem(rank_kickboxing, titulo)"
   ]
  },
  {
   "cell_type": "code",
   "execution_count": 29,
   "metadata": {},
   "outputs": [
    {
     "data": {
      "image/png": "[encoded data removed]",
      "text/plain": [
       "<Figure size 936x576 with 1 Axes>"
      ]
     },
     "metadata": {
      "needs_background": "light"
     },
     "output_type": "display_data"
    }
   ],
   "source": [
    "var1 = 'rank_cat'\n",
    "var2 = 'agility_cat'\n",
    "\n",
    "ordem_linhas = ['401-500',\n",
    "                '301-400',\n",
    "                '201-300',\n",
    "                '101-200',\n",
    "                '0-100']\n",
    "\n",
    "ordem_colunas = ['0-4',\n",
    "                 '5-6',\n",
    "                 '7-10']\n",
    "\n",
    "rank_agility = analise_bi(df, var1, var2, ordem_linhas, ordem_colunas)\n",
    "titulo = 'Ranking final por escore de agilidade'\n",
    "\n",
    "barras_empilhadas_porcentagem(rank_agility, titulo)"
   ]
  },
  {
   "cell_type": "code",
   "execution_count": 30,
   "metadata": {},
   "outputs": [
    {
     "data": {
      "image/png": "[encoded data removed]",
      "text/plain": [
       "<Figure size 936x576 with 1 Axes>"
      ]
     },
     "metadata": {
      "needs_background": "light"
     },
     "output_type": "display_data"
    }
   ],
   "source": [
    "var1 = 'rank_cat'\n",
    "var2 = 'weight_cat'\n",
    "\n",
    "ordem_linhas = ['401-500',\n",
    "                '301-400',\n",
    "                '201-300',\n",
    "                '101-200',\n",
    "                '0-100']\n",
    "\n",
    "ordem_colunas = ['65-80',\n",
    "                 '81-85',\n",
    "                 '86-90',\n",
    "                 '91-95',\n",
    "                 '96-100',\n",
    "                 '101-125']\n",
    "\n",
    "rank_weight = analise_bi(df, var1, var2, ordem_linhas, ordem_colunas)\n",
    "titulo = 'Ranking final por peso'\n",
    "\n",
    "barras_empilhadas_porcentagem(rank_weight, titulo)"
   ]
  },
  {
   "cell_type": "code",
   "execution_count": 31,
   "metadata": {
    "tags": []
   },
   "outputs": [
    {
     "data": {
      "image/png": "[encoded data removed]",
      "text/plain": [
       "<Figure size 936x576 with 1 Axes>"
      ]
     },
     "metadata": {
      "needs_background": "light"
     },
     "output_type": "display_data"
    }
   ],
   "source": [
    "var1 = 'rank_cat'\n",
    "var2 = 'Boxing'\n",
    "\n",
    "ordem_linhas = ['401-500',\n",
    "                '301-400',\n",
    "                '201-300',\n",
    "                '101-200',\n",
    "                '0-100']\n",
    "\n",
    "ordem_colunas = ['No',\n",
    "                 'Yes']\n",
    "\n",
    "rank_boxing = analise_bi(df, var1, var2, ordem_linhas, ordem_colunas)\n",
    "titulo = 'Ranking final por lutadores de Boxing'\n",
    "\n",
    "barras_empilhadas_porcentagem(rank_boxing, titulo)"
   ]
  },
  {
   "cell_type": "code",
   "execution_count": 32,
   "metadata": {},
   "outputs": [
    {
     "data": {
      "image/png": "[encoded data removed]",
      "text/plain": [
       "<Figure size 936x576 with 1 Axes>"
      ]
     },
     "metadata": {
      "needs_background": "light"
     },
     "output_type": "display_data"
    }
   ],
   "source": [
    "var1 = 'rank_cat'\n",
    "var2 = 'height_cat'\n",
    "\n",
    "ordem_linhas = ['401-500',\n",
    "                '301-400',\n",
    "                '201-300',\n",
    "                '101-200',\n",
    "                '0-100']\n",
    "\n",
    "ordem_colunas = ['150-165',\n",
    "                 '166-170',\n",
    "                 '171-175',\n",
    "                 '176-180',\n",
    "                 '181-185',\n",
    "                 '186-205']\n",
    "\n",
    "rank_height = analise_bi(df, var1, var2, ordem_linhas, ordem_colunas)\n",
    "titulo = 'Ranking final por altura'\n",
    "\n",
    "barras_empilhadas_porcentagem(rank_height, titulo)"
   ]
  },
  {
   "cell_type": "code",
   "execution_count": 33,
   "metadata": {},
   "outputs": [
    {
     "data": {
      "image/png": "[encoded data removed]",
      "text/plain": [
       "<Figure size 936x576 with 1 Axes>"
      ]
     },
     "metadata": {
      "needs_background": "light"
     },
     "output_type": "display_data"
    }
   ],
   "source": [
    "var1 = 'rank_cat'\n",
    "var2 = 'age_cat'\n",
    "\n",
    "ordem_linhas = ['401-500',\n",
    "                '301-400',\n",
    "                '201-300',\n",
    "                '101-200',\n",
    "                '0-100']\n",
    "\n",
    "ordem_colunas = ['18-25',\n",
    "                 '26-28',\n",
    "                 '29-30',\n",
    "                 '31-33',\n",
    "                 '34-35',\n",
    "                 '36-60']\n",
    "\n",
    "rank_age = analise_bi(df, var1, var2, ordem_linhas, ordem_colunas)\n",
    "titulo = 'Ranking final por idade'\n",
    "\n",
    "barras_empilhadas_porcentagem(rank_age, titulo)"
   ]
  }
 ],
 "metadata": {
  "colab": {
   "authorship_tag": "ABX9TyMjXv9qJeX6/8tqUGrY5jxF",
   "include_colab_link": true,
   "name": "teste_qui_quadrado.ipynb",
   "provenance": []
  },
  "kernelspec": {
   "display_name": "Python 3",
   "language": "python",
   "name": "python3"
  },
  "language_info": {
   "codemirror_mode": {
    "name": "ipython",
    "version": 3
   },
   "file_extension": ".py",
   "mimetype": "text/x-python",
   "name": "python",
   "nbconvert_exporter": "python",
   "pygments_lexer": "ipython3",
   "version": "3.8.8"
  }
 },
 "nbformat": 4,
 "nbformat_minor": 4
}
