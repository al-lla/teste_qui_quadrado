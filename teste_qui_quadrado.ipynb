{
 "cells": [
  {
   "cell_type": "markdown",
   "metadata": {
    "id": "661nQOjy6yZV"
   },
   "source": [
    "# Bibliotecas"
   ]
  },
  {
   "cell_type": "code",
   "execution_count": 1,
   "metadata": {
    "id": "XuDx2yXp5uJt"
   },
   "outputs": [],
   "source": [
    "# Manipulação de Dados\n",
    "import numpy as np\n",
    "import pandas as pd\n",
    "\n",
    "# Teste Qui-Quadrado\n",
    "from scipy.stats import chi2_contingency\n",
    "\n",
    "# Visualização\n",
    "import matplotlib.pyplot as plt\n",
    "import seaborn as sns"
   ]
  },
  {
   "cell_type": "markdown",
   "metadata": {
    "id": "Xg7WIN0T96lr"
   },
   "source": [
    "# __Base de dados__\n",
    "\n",
    "A base de dados utilizada nesse notebook foi retirada do [kaggle](https://www.kaggle.com/) em 12-09-2022.\n",
    "\n",
    "_Link para a base de dados original:_\n",
    "[Wrestling World Tournament](https://www.kaggle.com/datasets/julienjta/wrestling-world-tournament)"
   ]
  },
  {
   "cell_type": "code",
   "execution_count": 2,
   "metadata": {
    "id": "XIRBz03k958D"
   },
   "outputs": [],
   "source": [
    "df = pd.read_csv('./dataset/data.csv')"
   ]
  },
  {
   "cell_type": "code",
   "execution_count": 3,
   "metadata": {
    "colab": {
     "base_uri": "https://localhost:8080/",
     "height": 505
    },
    "id": "vDDb0q8295uH",
    "outputId": "fa705adb-5188-42d8-9d25-06ab0036d60a"
   },
   "outputs": [
    {
     "data": {
      "text/html": [
       "<div>\n",
       "<style scoped>\n",
       "    .dataframe tbody tr th:only-of-type {\n",
       "        vertical-align: middle;\n",
       "    }\n",
       "\n",
       "    .dataframe tbody tr th {\n",
       "        vertical-align: top;\n",
       "    }\n",
       "\n",
       "    .dataframe thead th {\n",
       "        text-align: right;\n",
       "    }\n",
       "</style>\n",
       "<table border=\"1\" class=\"dataframe\">\n",
       "  <thead>\n",
       "    <tr style=\"text-align: right;\">\n",
       "      <th></th>\n",
       "      <th>Unnamed: 0</th>\n",
       "      <th>name</th>\n",
       "      <th>gender</th>\n",
       "      <th>age</th>\n",
       "      <th>height</th>\n",
       "      <th>nationality</th>\n",
       "      <th>weight</th>\n",
       "      <th>sports</th>\n",
       "      <th>hours_per_day</th>\n",
       "      <th>strength</th>\n",
       "      <th>agility</th>\n",
       "      <th>mental</th>\n",
       "      <th>federation</th>\n",
       "      <th>year_start</th>\n",
       "      <th>rank</th>\n",
       "    </tr>\n",
       "  </thead>\n",
       "  <tbody>\n",
       "    <tr>\n",
       "      <th>0</th>\n",
       "      <td>0</td>\n",
       "      <td>Aaron Peavy</td>\n",
       "      <td>Female</td>\n",
       "      <td>41</td>\n",
       "      <td>165.0</td>\n",
       "      <td>England</td>\n",
       "      <td>82</td>\n",
       "      <td>Boxing, MMA</td>\n",
       "      <td>3</td>\n",
       "      <td>7</td>\n",
       "      <td>8</td>\n",
       "      <td>7</td>\n",
       "      <td>Fight Zone Wrestling</td>\n",
       "      <td>1989</td>\n",
       "      <td>42</td>\n",
       "    </tr>\n",
       "    <tr>\n",
       "      <th>1</th>\n",
       "      <td>1</td>\n",
       "      <td>Abe Rutland</td>\n",
       "      <td>Male</td>\n",
       "      <td>36</td>\n",
       "      <td>185.0</td>\n",
       "      <td>Japan</td>\n",
       "      <td>100</td>\n",
       "      <td>Judo</td>\n",
       "      <td>0</td>\n",
       "      <td>8</td>\n",
       "      <td>5</td>\n",
       "      <td>9</td>\n",
       "      <td>World Wrestling Entertainment</td>\n",
       "      <td>2006</td>\n",
       "      <td>161</td>\n",
       "    </tr>\n",
       "    <tr>\n",
       "      <th>2</th>\n",
       "      <td>2</td>\n",
       "      <td>Adrian Quinn</td>\n",
       "      <td>Male</td>\n",
       "      <td>29</td>\n",
       "      <td>178.5</td>\n",
       "      <td>Japan</td>\n",
       "      <td>93</td>\n",
       "      <td>Karate</td>\n",
       "      <td>4</td>\n",
       "      <td>8</td>\n",
       "      <td>8</td>\n",
       "      <td>7</td>\n",
       "      <td>World Wrestling Entertainment</td>\n",
       "      <td>2012</td>\n",
       "      <td>153</td>\n",
       "    </tr>\n",
       "    <tr>\n",
       "      <th>3</th>\n",
       "      <td>3</td>\n",
       "      <td>Alan Beckham</td>\n",
       "      <td>Male</td>\n",
       "      <td>39</td>\n",
       "      <td>187.5</td>\n",
       "      <td>Japan</td>\n",
       "      <td>107</td>\n",
       "      <td>Judo</td>\n",
       "      <td>3</td>\n",
       "      <td>7</td>\n",
       "      <td>6</td>\n",
       "      <td>8</td>\n",
       "      <td>Fight Zone Wrestling</td>\n",
       "      <td>2003</td>\n",
       "      <td>252</td>\n",
       "    </tr>\n",
       "    <tr>\n",
       "      <th>4</th>\n",
       "      <td>4</td>\n",
       "      <td>Albertha Rodriguez</td>\n",
       "      <td>Female</td>\n",
       "      <td>29</td>\n",
       "      <td>158.0</td>\n",
       "      <td>USA</td>\n",
       "      <td>72</td>\n",
       "      <td>MMA</td>\n",
       "      <td>1</td>\n",
       "      <td>5</td>\n",
       "      <td>7</td>\n",
       "      <td>7</td>\n",
       "      <td>Consejo Global de Lucha Libre</td>\n",
       "      <td>2012</td>\n",
       "      <td>360</td>\n",
       "    </tr>\n",
       "    <tr>\n",
       "      <th>...</th>\n",
       "      <td>...</td>\n",
       "      <td>...</td>\n",
       "      <td>...</td>\n",
       "      <td>...</td>\n",
       "      <td>...</td>\n",
       "      <td>...</td>\n",
       "      <td>...</td>\n",
       "      <td>...</td>\n",
       "      <td>...</td>\n",
       "      <td>...</td>\n",
       "      <td>...</td>\n",
       "      <td>...</td>\n",
       "      <td>...</td>\n",
       "      <td>...</td>\n",
       "      <td>...</td>\n",
       "    </tr>\n",
       "    <tr>\n",
       "      <th>495</th>\n",
       "      <td>495</td>\n",
       "      <td>Willie Durham</td>\n",
       "      <td>Male</td>\n",
       "      <td>34</td>\n",
       "      <td>185.5</td>\n",
       "      <td>France</td>\n",
       "      <td>104</td>\n",
       "      <td>Judo</td>\n",
       "      <td>2</td>\n",
       "      <td>9</td>\n",
       "      <td>6</td>\n",
       "      <td>5</td>\n",
       "      <td>Consejo Global de Lucha Libre</td>\n",
       "      <td>2008</td>\n",
       "      <td>353</td>\n",
       "    </tr>\n",
       "    <tr>\n",
       "      <th>496</th>\n",
       "      <td>496</td>\n",
       "      <td>Winnie Larsen</td>\n",
       "      <td>Female</td>\n",
       "      <td>31</td>\n",
       "      <td>161.5</td>\n",
       "      <td>France</td>\n",
       "      <td>71</td>\n",
       "      <td>Judo, Karate, Kick-Boxing, MMA</td>\n",
       "      <td>5</td>\n",
       "      <td>4</td>\n",
       "      <td>9</td>\n",
       "      <td>6</td>\n",
       "      <td>World Wrestling Entertainment</td>\n",
       "      <td>2003</td>\n",
       "      <td>74</td>\n",
       "    </tr>\n",
       "    <tr>\n",
       "      <th>497</th>\n",
       "      <td>497</td>\n",
       "      <td>Winston Wahl</td>\n",
       "      <td>Male</td>\n",
       "      <td>22</td>\n",
       "      <td>188.5</td>\n",
       "      <td>France</td>\n",
       "      <td>102</td>\n",
       "      <td>Kick-Boxing</td>\n",
       "      <td>3</td>\n",
       "      <td>8</td>\n",
       "      <td>8</td>\n",
       "      <td>7</td>\n",
       "      <td>Consejo Global de Lucha Libre</td>\n",
       "      <td>2021</td>\n",
       "      <td>265</td>\n",
       "    </tr>\n",
       "    <tr>\n",
       "      <th>498</th>\n",
       "      <td>498</td>\n",
       "      <td>Yolanda Yamashiro</td>\n",
       "      <td>Female</td>\n",
       "      <td>32</td>\n",
       "      <td>177.0</td>\n",
       "      <td>France</td>\n",
       "      <td>92</td>\n",
       "      <td>Judo</td>\n",
       "      <td>2</td>\n",
       "      <td>5</td>\n",
       "      <td>5</td>\n",
       "      <td>5</td>\n",
       "      <td>Consejo Global de Lucha Libre</td>\n",
       "      <td>2012</td>\n",
       "      <td>499</td>\n",
       "    </tr>\n",
       "    <tr>\n",
       "      <th>499</th>\n",
       "      <td>499</td>\n",
       "      <td>Zenaida Flagge</td>\n",
       "      <td>Female</td>\n",
       "      <td>21</td>\n",
       "      <td>170.5</td>\n",
       "      <td>France</td>\n",
       "      <td>85</td>\n",
       "      <td>Boxing, Judo, Kick-Boxing, MMA</td>\n",
       "      <td>4</td>\n",
       "      <td>6</td>\n",
       "      <td>10</td>\n",
       "      <td>5</td>\n",
       "      <td>Consejo Global de Lucha Libre</td>\n",
       "      <td>2011</td>\n",
       "      <td>92</td>\n",
       "    </tr>\n",
       "  </tbody>\n",
       "</table>\n",
       "<p>500 rows × 15 columns</p>\n",
       "</div>"
      ],
      "text/plain": [
       "     Unnamed: 0                name  gender  age  height nationality  weight  \\\n",
       "0             0         Aaron Peavy  Female   41   165.0     England      82   \n",
       "1             1         Abe Rutland    Male   36   185.0       Japan     100   \n",
       "2             2        Adrian Quinn    Male   29   178.5       Japan      93   \n",
       "3             3        Alan Beckham    Male   39   187.5       Japan     107   \n",
       "4             4  Albertha Rodriguez  Female   29   158.0         USA      72   \n",
       "..          ...                 ...     ...  ...     ...         ...     ...   \n",
       "495         495       Willie Durham    Male   34   185.5      France     104   \n",
       "496         496       Winnie Larsen  Female   31   161.5      France      71   \n",
       "497         497        Winston Wahl    Male   22   188.5      France     102   \n",
       "498         498   Yolanda Yamashiro  Female   32   177.0      France      92   \n",
       "499         499      Zenaida Flagge  Female   21   170.5      France      85   \n",
       "\n",
       "                             sports  hours_per_day  strength  agility  mental  \\\n",
       "0                       Boxing, MMA              3         7        8       7   \n",
       "1                              Judo              0         8        5       9   \n",
       "2                            Karate              4         8        8       7   \n",
       "3                              Judo              3         7        6       8   \n",
       "4                               MMA              1         5        7       7   \n",
       "..                              ...            ...       ...      ...     ...   \n",
       "495                            Judo              2         9        6       5   \n",
       "496  Judo, Karate, Kick-Boxing, MMA              5         4        9       6   \n",
       "497                     Kick-Boxing              3         8        8       7   \n",
       "498                            Judo              2         5        5       5   \n",
       "499  Boxing, Judo, Kick-Boxing, MMA              4         6       10       5   \n",
       "\n",
       "                        federation  year_start  rank  \n",
       "0             Fight Zone Wrestling        1989    42  \n",
       "1    World Wrestling Entertainment        2006   161  \n",
       "2    World Wrestling Entertainment        2012   153  \n",
       "3             Fight Zone Wrestling        2003   252  \n",
       "4    Consejo Global de Lucha Libre        2012   360  \n",
       "..                             ...         ...   ...  \n",
       "495  Consejo Global de Lucha Libre        2008   353  \n",
       "496  World Wrestling Entertainment        2003    74  \n",
       "497  Consejo Global de Lucha Libre        2021   265  \n",
       "498  Consejo Global de Lucha Libre        2012   499  \n",
       "499  Consejo Global de Lucha Libre        2011    92  \n",
       "\n",
       "[500 rows x 15 columns]"
      ]
     },
     "execution_count": 3,
     "metadata": {},
     "output_type": "execute_result"
    }
   ],
   "source": [
    "df"
   ]
  },
  {
   "cell_type": "markdown",
   "metadata": {},
   "source": [
    "A base acima conta com diferentes informações de 500 lutadores de 3 diferentes federações que competiram em lutas de 1 contra 1. A saber, as informações disponíveis são:\n",
    "\n",
    "1. Nome \n",
    "2. Gênero\n",
    "3. Idade\n",
    "4. Altura\n",
    "5. Nacionalidade\n",
    "6. Peso\n",
    "7. Arte marcial praticada\n",
    "8. Número de horas diárias gastas em treino\n",
    "9. Escore de força\n",
    "10. Escore de agilidade\n",
    "11. Escore de capaciedade mental\n",
    "12. Federação\n",
    "13. Ano de início no esporte\n",
    "14. Ranking final na competição"
   ]
  },
  {
   "cell_type": "markdown",
   "metadata": {},
   "source": [
    "## __O problema__\n",
    "\n",
    "Queremos analisar a base de dados a fim de entender se as diferentes federações possuem uma preferência por algum tipo de característica presente em seus atletas, isto é, alguma variável que possua maior ocorrência de um valor específico para determinada federação.\n",
    "\n",
    "Para solucionar esse problema, seria possível analisar cada uma das variáveis isoladamente e _observar como o comportamento delas pode mudar a depender da federação analisada_. Buscando automatizar esse processo e obter resultados mais confiáveis, podemos utilizar um teste estatístico para comparar as variáveis categóricas: o __teste qui-quadrado__."
   ]
  },
  {
   "cell_type": "markdown",
   "metadata": {
    "id": "HUtpcxBdrxmd"
   },
   "source": [
    "## __Explorando a Base__\n",
    "\n",
    "Uma boa forma de entendermos o comportamento das variáveis de nossa base de dados é com a utilização de histogramas."
   ]
  },
  {
   "cell_type": "markdown",
   "metadata": {},
   "source": [
    "É possível realizar o plot do histograma de cada variável pela biblioteca pandas"
   ]
  },
  {
   "cell_type": "code",
   "execution_count": 33,
   "metadata": {},
   "outputs": [
    {
     "data": {
      "image/png": "[encoded data removed]",
      "text/plain": [
       "<Figure size 432x288 with 1 Axes>"
      ]
     },
     "metadata": {
      "needs_background": "light"
     },
     "output_type": "display_data"
    }
   ],
   "source": [
    "df.gender.hist();"
   ]
  },
  {
   "cell_type": "markdown",
   "metadata": {},
   "source": [
    "Contudo, para termos uma visão geral da base, podemos utilizar um `for loop` para plotar o histograma de todas as variáveis de interesse"
   ]
  },
  {
   "cell_type": "code",
   "execution_count": 29,
   "metadata": {},
   "outputs": [
    {
     "data": {
      "image/png": "[encoded data removed]",
      "text/plain": [
       "<Figure size 720x432 with 1 Axes>"
      ]
     },
     "metadata": {
      "needs_background": "light"
     },
     "output_type": "display_data"
    },
    {
     "data": {
      "image/png": "[encoded data removed]",
      "text/plain": [
       "<Figure size 720x432 with 1 Axes>"
      ]
     },
     "metadata": {
      "needs_background": "light"
     },
     "output_type": "display_data"
    },
    {
     "data": {
      "image/png": "[encoded data removed]",
      "text/plain": [
       "<Figure size 720x432 with 1 Axes>"
      ]
     },
     "metadata": {
      "needs_background": "light"
     },
     "output_type": "display_data"
    },
    {
     "data": {
      "image/png": "[encoded data removed]",
      "text/plain": [
       "<Figure size 720x432 with 1 Axes>"
      ]
     },
     "metadata": {
      "needs_background": "light"
     },
     "output_type": "display_data"
    },
    {
     "data": {
      "image/png": "[encoded data removed]",
      "text/plain": [
       "<Figure size 720x432 with 1 Axes>"
      ]
     },
     "metadata": {
      "needs_background": "light"
     },
     "output_type": "display_data"
    },
    {
     "data": {
      "image/png": "[encoded data removed]",
      "text/plain": [
       "<Figure size 720x432 with 1 Axes>"
      ]
     },
     "metadata": {
      "needs_background": "light"
     },
     "output_type": "display_data"
    },
    {
     "data": {
      "image/png": "[encoded data removed]",
      "text/plain": [
       "<Figure size 720x432 with 1 Axes>"
      ]
     },
     "metadata": {
      "needs_background": "light"
     },
     "output_type": "display_data"
    },
    {
     "data": {
      "image/png": "[encoded data removed]",
      "text/plain": [
       "<Figure size 720x432 with 1 Axes>"
      ]
     },
     "metadata": {
      "needs_background": "light"
     },
     "output_type": "display_data"
    },
    {
     "data": {
      "image/png": "[encoded data removed]",
      "text/plain": [
       "<Figure size 720x432 with 1 Axes>"
      ]
     },
     "metadata": {
      "needs_background": "light"
     },
     "output_type": "display_data"
    },
    {
     "data": {
      "image/png": "[encoded data removed]",
      "text/plain": [
       "<Figure size 720x432 with 1 Axes>"
      ]
     },
     "metadata": {
      "needs_background": "light"
     },
     "output_type": "display_data"
    },
    {
     "data": {
      "image/png": "[encoded data removed]",
      "text/plain": [
       "<Figure size 720x432 with 1 Axes>"
      ]
     },
     "metadata": {
      "needs_background": "light"
     },
     "output_type": "display_data"
    }
   ],
   "source": [
    "var = ['gender', 'age', 'height', 'nationality', 'weight', 'sports', 'hours_per_day', 'strength', 'agility', 'mental', 'federation']\n",
    "\n",
    "for i in var:\n",
    "    plt.figure(figsize = (10, 6))\n",
    "    plt.hist(df[i]);\n",
    "    plt.title(f'Histograma da variável {i}')\n",
    "    plt.show()"
   ]
  },
  {
   "cell_type": "code",
   "execution_count": 40,
   "metadata": {},
   "outputs": [
    {
     "data": {
      "text/plain": [
       "array(['Boxing, MMA', 'Judo', 'Karate', 'MMA', 'Judo, Karate',\n",
       "       'Karate, Kick-Boxing, MMA', 'Boxing, Karate',\n",
       "       'Boxing, Kick-Boxing, MMA', 'Boxing, Judo, MMA',\n",
       "       'Boxing, Judo, Kick-Boxing', 'Boxing, Karate, Kick-Boxing, MMA',\n",
       "       'Karate, Kick-Boxing', 'Boxing, Kick-Boxing',\n",
       "       'Boxing, Judo, Kick-Boxing, MMA', 'Boxing', 'Boxing, Judo',\n",
       "       'Boxing, Karate, Kick-Boxing', 'Boxing, Judo, Karate, MMA',\n",
       "       'Judo, Kick-Boxing, MMA', 'Boxing, Karate, MMA',\n",
       "       'Boxing, Judo, Karate', 'Judo, Kick-Boxing',\n",
       "       'Judo, Karate, Kick-Boxing', 'Judo, Karate, MMA', 'Karate, MMA',\n",
       "       'Kick-Boxing, MMA', 'Kick-Boxing',\n",
       "       'Boxing, Judo, Karate, Kick-Boxing',\n",
       "       'Judo, Karate, Kick-Boxing, MMA',\n",
       "       'Boxing, Judo, Karate, Kick-Boxing, MMA', 'Judo, MMA'],\n",
       "      dtype=object)"
      ]
     },
     "execution_count": 40,
     "metadata": {},
     "output_type": "execute_result"
    }
   ],
   "source": [
    "df.sports.unique()"
   ]
  },
  {
   "cell_type": "markdown",
   "metadata": {},
   "source": [
    "A partir dos histogramas, podemos observar algumas características das variáveis obtidas:\n",
    "\n",
    "1. Variáveis categóricas: gender, nationality, sports, federation\n",
    "2. Variáveis numéricas: age, height, weight, hours per day, strength, agility, mental\n",
    "\n",
    "Para comparar as variáveis numéricas com a variável `federation`, será necessário agrupá-las em intervalos para ser possível analisá-las em conjunto.\n",
    "Ademais, como a variável `sports` possui diversas opções combinadas, será necessário separar cada uma das variáveis em uma coluna."
   ]
  },
  {
   "cell_type": "markdown",
   "metadata": {
    "id": "Ot4z1gqgpO38"
   },
   "source": [
    "# __Teste Qui-Quadrado__\n",
    "\n",
    "Para realizar o teste Qui-Quadrado, precisamos escolher as variáveis que iremos testar."
   ]
  },
  {
   "cell_type": "code",
   "execution_count": 18,
   "metadata": {
    "id": "eBbgvzhKK6hJ"
   },
   "outputs": [],
   "source": [
    "var1 = 'Gender'\n",
    "var2 = 'Age.Group'"
   ]
  },
  {
   "cell_type": "markdown",
   "metadata": {
    "id": "3lysYBiALwj1"
   },
   "source": [
    "Para realizar o teste Qui-Quadrado, é necessário construir uma tabela em que todos os valores da variável 1 sejam linhas e que todos os valores da variável 2 sejam colunas.\n",
    "\n",
    "Assim, cada célula $a_{ij}$, representará a ocorrência de observações com o valor $i$ para a variável 1 e o valor $j$ para a variável 2."
   ]
  },
  {
   "cell_type": "code",
   "execution_count": 19,
   "metadata": {
    "colab": {
     "base_uri": "https://localhost:8080/",
     "height": 143
    },
    "id": "VOmf_wTpK6ZZ",
    "outputId": "8cef2dd6-01f2-4a1b-d097-bfbe1adf16f6"
   },
   "outputs": [
    {
     "data": {
      "text/html": [
       "\n",
       "  <div id=\"df-ca01cdc3-e5fc-4502-9a79-97e0cacc108e\">\n",
       "    <div class=\"colab-df-container\">\n",
       "      <div>\n",
       "<style scoped>\n",
       "    .dataframe tbody tr th:only-of-type {\n",
       "        vertical-align: middle;\n",
       "    }\n",
       "\n",
       "    .dataframe tbody tr th {\n",
       "        vertical-align: top;\n",
       "    }\n",
       "\n",
       "    .dataframe thead th {\n",
       "        text-align: right;\n",
       "    }\n",
       "</style>\n",
       "<table border=\"1\" class=\"dataframe\">\n",
       "  <thead>\n",
       "    <tr style=\"text-align: right;\">\n",
       "      <th>Age.Group</th>\n",
       "      <th>21-30</th>\n",
       "      <th>31-40</th>\n",
       "      <th>41-50</th>\n",
       "      <th>51-60</th>\n",
       "      <th>61-70</th>\n",
       "    </tr>\n",
       "    <tr>\n",
       "      <th>Gender</th>\n",
       "      <th></th>\n",
       "      <th></th>\n",
       "      <th></th>\n",
       "      <th></th>\n",
       "      <th></th>\n",
       "    </tr>\n",
       "  </thead>\n",
       "  <tbody>\n",
       "    <tr>\n",
       "      <th>Female</th>\n",
       "      <td>1</td>\n",
       "      <td>0</td>\n",
       "      <td>2</td>\n",
       "      <td>20</td>\n",
       "      <td>60</td>\n",
       "    </tr>\n",
       "    <tr>\n",
       "      <th>Male</th>\n",
       "      <td>11</td>\n",
       "      <td>20</td>\n",
       "      <td>59</td>\n",
       "      <td>164</td>\n",
       "      <td>31</td>\n",
       "    </tr>\n",
       "  </tbody>\n",
       "</table>\n",
       "</div>\n",
       "      <button class=\"colab-df-convert\" onclick=\"convertToInteractive('df-ca01cdc3-e5fc-4502-9a79-97e0cacc108e')\"\n",
       "              title=\"Convert this dataframe to an interactive table.\"\n",
       "              style=\"display:none;\">\n",
       "        \n",
       "  <svg xmlns=\"http://www.w3.org/2000/svg\" height=\"24px\"viewBox=\"0 0 24 24\"\n",
       "       width=\"24px\">\n",
       "    <path d=\"M0 0h24v24H0V0z\" fill=\"none\"/>\n",
       "    <path d=\"M18.56 5.44l.94 2.06.94-2.06 2.06-.94-2.06-.94-.94-2.06-.94 2.06-2.06.94zm-11 1L8.5 8.5l.94-2.06 2.06-.94-2.06-.94L8.5 2.5l-.94 2.06-2.06.94zm10 10l.94 2.06.94-2.06 2.06-.94-2.06-.94-.94-2.06-.94 2.06-2.06.94z\"/><path d=\"M17.41 7.96l-1.37-1.37c-.4-.4-.92-.59-1.43-.59-.52 0-1.04.2-1.43.59L10.3 9.45l-7.72 7.72c-.78.78-.78 2.05 0 2.83L4 21.41c.39.39.9.59 1.41.59.51 0 1.02-.2 1.41-.59l7.78-7.78 2.81-2.81c.8-.78.8-2.07 0-2.86zM5.41 20L4 18.59l7.72-7.72 1.47 1.35L5.41 20z\"/>\n",
       "  </svg>\n",
       "      </button>\n",
       "      \n",
       "  <style>\n",
       "    .colab-df-container {\n",
       "      display:flex;\n",
       "      flex-wrap:wrap;\n",
       "      gap: 12px;\n",
       "    }\n",
       "\n",
       "    .colab-df-convert {\n",
       "      background-color: #E8F0FE;\n",
       "      border: none;\n",
       "      border-radius: 50%;\n",
       "      cursor: pointer;\n",
       "      display: none;\n",
       "      fill: #1967D2;\n",
       "      height: 32px;\n",
       "      padding: 0 0 0 0;\n",
       "      width: 32px;\n",
       "    }\n",
       "\n",
       "    .colab-df-convert:hover {\n",
       "      background-color: #E2EBFA;\n",
       "      box-shadow: 0px 1px 2px rgba(60, 64, 67, 0.3), 0px 1px 3px 1px rgba(60, 64, 67, 0.15);\n",
       "      fill: #174EA6;\n",
       "    }\n",
       "\n",
       "    [theme=dark] .colab-df-convert {\n",
       "      background-color: #3B4455;\n",
       "      fill: #D2E3FC;\n",
       "    }\n",
       "\n",
       "    [theme=dark] .colab-df-convert:hover {\n",
       "      background-color: #434B5C;\n",
       "      box-shadow: 0px 1px 3px 1px rgba(0, 0, 0, 0.15);\n",
       "      filter: drop-shadow(0px 1px 2px rgba(0, 0, 0, 0.3));\n",
       "      fill: #FFFFFF;\n",
       "    }\n",
       "  </style>\n",
       "\n",
       "      <script>\n",
       "        const buttonEl =\n",
       "          document.querySelector('#df-ca01cdc3-e5fc-4502-9a79-97e0cacc108e button.colab-df-convert');\n",
       "        buttonEl.style.display =\n",
       "          google.colab.kernel.accessAllowed ? 'block' : 'none';\n",
       "\n",
       "        async function convertToInteractive(key) {\n",
       "          const element = document.querySelector('#df-ca01cdc3-e5fc-4502-9a79-97e0cacc108e');\n",
       "          const dataTable =\n",
       "            await google.colab.kernel.invokeFunction('convertToInteractive',\n",
       "                                                     [key], {});\n",
       "          if (!dataTable) return;\n",
       "\n",
       "          const docLinkHtml = 'Like what you see? Visit the ' +\n",
       "            '<a target=\"_blank\" href=https://colab.research.google.com/notebooks/data_table.ipynb>data table notebook</a>'\n",
       "            + ' to learn more about interactive tables.';\n",
       "          element.innerHTML = '';\n",
       "          dataTable['output_type'] = 'display_data';\n",
       "          await google.colab.output.renderOutput(dataTable, element);\n",
       "          const docLink = document.createElement('div');\n",
       "          docLink.innerHTML = docLinkHtml;\n",
       "          element.appendChild(docLink);\n",
       "        }\n",
       "      </script>\n",
       "    </div>\n",
       "  </div>\n",
       "  "
      ],
      "text/plain": [
       "Age.Group  21-30  31-40  41-50  51-60  61-70\n",
       "Gender                                      \n",
       "Female         1      0      2     20     60\n",
       "Male          11     20     59    164     31"
      ]
     },
     "execution_count": 19,
     "metadata": {},
     "output_type": "execute_result"
    }
   ],
   "source": [
    "chi = pd.crosstab(df[var1], df[var2])\n",
    "chi"
   ]
  },
  {
   "cell_type": "markdown",
   "metadata": {
    "id": "b49nwIfWM7kZ"
   },
   "source": [
    "Com essa tabela, é possível calcular o teste Qui-Quadrado com a função `chi2_contingency` do pacote `scipy.stats`."
   ]
  },
  {
   "cell_type": "code",
   "execution_count": 25,
   "metadata": {
    "colab": {
     "base_uri": "https://localhost:8080/"
    },
    "id": "599dBSMeK6RV",
    "outputId": "14b69690-b40c-4f3f-9ba5-dea76b0e4f8f"
   },
   "outputs": [
    {
     "data": {
      "text/plain": [
       "(132.60818273774606,\n",
       " 1.0778056511911754e-27,\n",
       " 4,\n",
       " array([[  2.70652174,   4.51086957,  13.75815217,  41.5       ,\n",
       "          20.52445652],\n",
       "        [  9.29347826,  15.48913043,  47.24184783, 142.5       ,\n",
       "          70.47554348]]))"
      ]
     },
     "execution_count": 25,
     "metadata": {},
     "output_type": "execute_result"
    }
   ],
   "source": [
    "chi_scores = chi2_contingency(chi)\n",
    "chi_scores"
   ]
  },
  {
   "cell_type": "markdown",
   "metadata": {
    "id": "iHQIoNz8NW_w"
   },
   "source": [
    "O primeiro valor da tupla resultando indica o valor do teste:"
   ]
  },
  {
   "cell_type": "code",
   "execution_count": 26,
   "metadata": {
    "colab": {
     "base_uri": "https://localhost:8080/"
    },
    "id": "3FzhT5oKK6G6",
    "outputId": "46506927-82de-4bac-90e2-cd8337ffde3e"
   },
   "outputs": [
    {
     "data": {
      "text/plain": [
       "0   132.61\n",
       "dtype: float64"
      ]
     },
     "execution_count": 26,
     "metadata": {},
     "output_type": "execute_result"
    }
   ],
   "source": [
    "scores = pd.Series(chi_scores[0])\n",
    "scores"
   ]
  },
  {
   "cell_type": "markdown",
   "metadata": {
    "id": "z9HxZmXSNjng"
   },
   "source": [
    "Já o segundo valor, representa o p-valor:"
   ]
  },
  {
   "cell_type": "code",
   "execution_count": 27,
   "metadata": {
    "colab": {
     "base_uri": "https://localhost:8080/"
    },
    "id": "tYuShbA5LQJT",
    "outputId": "21505d33-3f4f-4182-d071-3aa3f6d4ccdb"
   },
   "outputs": [
    {
     "data": {
      "text/plain": [
       "0   0.00\n",
       "dtype: float64"
      ]
     },
     "execution_count": 27,
     "metadata": {},
     "output_type": "execute_result"
    }
   ],
   "source": [
    "pvalues = pd.Series(chi_scores[1])\n",
    "pvalues"
   ]
  },
  {
   "cell_type": "markdown",
   "metadata": {
    "id": "9fkoiNItN3rv"
   },
   "source": [
    "## __Criando uma função__\n",
    "\n",
    "Para generalizar o trabalho que foi feito, podemos criar uma função que execute os mesmos passos para qualquer conjunto de dados."
   ]
  },
  {
   "cell_type": "code",
   "execution_count": 35,
   "metadata": {
    "id": "K8P8mtmALRRu"
   },
   "outputs": [],
   "source": [
    "def qui_quadrado(df, var1, var2):\n",
    "\n",
    "  chi = pd.crosstab(df[var1], df[var2])\n",
    "  chi_scores = chi2_contingency(chi)\n",
    "\n",
    "  scores = pd.Series(chi_scores[0])\n",
    "  pvalues = pd.Series(chi_scores[1])\n",
    "\n",
    "  d = {'Qui2': scores, 'p-Valor': pvalues}\n",
    "  chi_squared = pd.DataFrame(d)\n",
    "\n",
    "  # Renomear\n",
    "  d = {0: var2}\n",
    "  chi_squared = chi_squared.rename(d)\n",
    "\n",
    "  return chi_squared"
   ]
  },
  {
   "cell_type": "code",
   "execution_count": 36,
   "metadata": {
    "colab": {
     "base_uri": "https://localhost:8080/",
     "height": 81
    },
    "id": "VBOlUSuRLRJ7",
    "outputId": "9dab2d66-4e34-4d33-8651-424f3febcdd3"
   },
   "outputs": [
    {
     "data": {
      "text/html": [
       "\n",
       "  <div id=\"df-3e5e20a1-1bd1-4428-b876-999ee9ba5201\">\n",
       "    <div class=\"colab-df-container\">\n",
       "      <div>\n",
       "<style scoped>\n",
       "    .dataframe tbody tr th:only-of-type {\n",
       "        vertical-align: middle;\n",
       "    }\n",
       "\n",
       "    .dataframe tbody tr th {\n",
       "        vertical-align: top;\n",
       "    }\n",
       "\n",
       "    .dataframe thead th {\n",
       "        text-align: right;\n",
       "    }\n",
       "</style>\n",
       "<table border=\"1\" class=\"dataframe\">\n",
       "  <thead>\n",
       "    <tr style=\"text-align: right;\">\n",
       "      <th></th>\n",
       "      <th>Qui2</th>\n",
       "      <th>p-Valor</th>\n",
       "    </tr>\n",
       "  </thead>\n",
       "  <tbody>\n",
       "    <tr>\n",
       "      <th>Age.Group</th>\n",
       "      <td>132.61</td>\n",
       "      <td>0.00</td>\n",
       "    </tr>\n",
       "  </tbody>\n",
       "</table>\n",
       "</div>\n",
       "      <button class=\"colab-df-convert\" onclick=\"convertToInteractive('df-3e5e20a1-1bd1-4428-b876-999ee9ba5201')\"\n",
       "              title=\"Convert this dataframe to an interactive table.\"\n",
       "              style=\"display:none;\">\n",
       "        \n",
       "  <svg xmlns=\"http://www.w3.org/2000/svg\" height=\"24px\"viewBox=\"0 0 24 24\"\n",
       "       width=\"24px\">\n",
       "    <path d=\"M0 0h24v24H0V0z\" fill=\"none\"/>\n",
       "    <path d=\"M18.56 5.44l.94 2.06.94-2.06 2.06-.94-2.06-.94-.94-2.06-.94 2.06-2.06.94zm-11 1L8.5 8.5l.94-2.06 2.06-.94-2.06-.94L8.5 2.5l-.94 2.06-2.06.94zm10 10l.94 2.06.94-2.06 2.06-.94-2.06-.94-.94-2.06-.94 2.06-2.06.94z\"/><path d=\"M17.41 7.96l-1.37-1.37c-.4-.4-.92-.59-1.43-.59-.52 0-1.04.2-1.43.59L10.3 9.45l-7.72 7.72c-.78.78-.78 2.05 0 2.83L4 21.41c.39.39.9.59 1.41.59.51 0 1.02-.2 1.41-.59l7.78-7.78 2.81-2.81c.8-.78.8-2.07 0-2.86zM5.41 20L4 18.59l7.72-7.72 1.47 1.35L5.41 20z\"/>\n",
       "  </svg>\n",
       "      </button>\n",
       "      \n",
       "  <style>\n",
       "    .colab-df-container {\n",
       "      display:flex;\n",
       "      flex-wrap:wrap;\n",
       "      gap: 12px;\n",
       "    }\n",
       "\n",
       "    .colab-df-convert {\n",
       "      background-color: #E8F0FE;\n",
       "      border: none;\n",
       "      border-radius: 50%;\n",
       "      cursor: pointer;\n",
       "      display: none;\n",
       "      fill: #1967D2;\n",
       "      height: 32px;\n",
       "      padding: 0 0 0 0;\n",
       "      width: 32px;\n",
       "    }\n",
       "\n",
       "    .colab-df-convert:hover {\n",
       "      background-color: #E2EBFA;\n",
       "      box-shadow: 0px 1px 2px rgba(60, 64, 67, 0.3), 0px 1px 3px 1px rgba(60, 64, 67, 0.15);\n",
       "      fill: #174EA6;\n",
       "    }\n",
       "\n",
       "    [theme=dark] .colab-df-convert {\n",
       "      background-color: #3B4455;\n",
       "      fill: #D2E3FC;\n",
       "    }\n",
       "\n",
       "    [theme=dark] .colab-df-convert:hover {\n",
       "      background-color: #434B5C;\n",
       "      box-shadow: 0px 1px 3px 1px rgba(0, 0, 0, 0.15);\n",
       "      filter: drop-shadow(0px 1px 2px rgba(0, 0, 0, 0.3));\n",
       "      fill: #FFFFFF;\n",
       "    }\n",
       "  </style>\n",
       "\n",
       "      <script>\n",
       "        const buttonEl =\n",
       "          document.querySelector('#df-3e5e20a1-1bd1-4428-b876-999ee9ba5201 button.colab-df-convert');\n",
       "        buttonEl.style.display =\n",
       "          google.colab.kernel.accessAllowed ? 'block' : 'none';\n",
       "\n",
       "        async function convertToInteractive(key) {\n",
       "          const element = document.querySelector('#df-3e5e20a1-1bd1-4428-b876-999ee9ba5201');\n",
       "          const dataTable =\n",
       "            await google.colab.kernel.invokeFunction('convertToInteractive',\n",
       "                                                     [key], {});\n",
       "          if (!dataTable) return;\n",
       "\n",
       "          const docLinkHtml = 'Like what you see? Visit the ' +\n",
       "            '<a target=\"_blank\" href=https://colab.research.google.com/notebooks/data_table.ipynb>data table notebook</a>'\n",
       "            + ' to learn more about interactive tables.';\n",
       "          element.innerHTML = '';\n",
       "          dataTable['output_type'] = 'display_data';\n",
       "          await google.colab.output.renderOutput(dataTable, element);\n",
       "          const docLink = document.createElement('div');\n",
       "          docLink.innerHTML = docLinkHtml;\n",
       "          element.appendChild(docLink);\n",
       "        }\n",
       "      </script>\n",
       "    </div>\n",
       "  </div>\n",
       "  "
      ],
      "text/plain": [
       "            Qui2  p-Valor\n",
       "Age.Group 132.61     0.00"
      ]
     },
     "execution_count": 36,
     "metadata": {},
     "output_type": "execute_result"
    }
   ],
   "source": [
    "qui_quadrado(df, var1, var2)"
   ]
  },
  {
   "cell_type": "markdown",
   "metadata": {
    "id": "Q88WA99064np"
   },
   "source": [
    "# Utilizando um loop para automatizar o teste\n",
    "\n",
    "Ao utilizarmos uma estrutura de repetição, é possível generalizar a função anterior para que seja possível passar uma lista de variáveis a serem testadas.\n",
    "\n",
    "Como um bônus, também iremos reordenar a tabela exibida para que os menores p-valores apareçam primeiro."
   ]
  },
  {
   "cell_type": "code",
   "execution_count": 80,
   "metadata": {
    "id": "L32_bqZBPMtd"
   },
   "outputs": [],
   "source": [
    "def qui_quadrado(df, variavel, lista):\n",
    "\n",
    "  # Calcular Qui2 e p-valor para cada variável e colocar resultado num df\n",
    "  d = {'Qui2': [], 'p-Valor': []}\n",
    "\n",
    "  for l in lista:\n",
    "      \n",
    "      # Cria tabela que relaciona variável com Tipo de Consumidor\n",
    "      tab = pd.crosstab(df[variavel], df[l])\n",
    "\n",
    "      # Calcula o qui2 entre as duas variáveis\n",
    "      chi_scores = chi2_contingency(tab)\n",
    "\n",
    "      # Recupera o valor e p-value do teste\n",
    "      scores = pd.Series(chi_scores[0])\n",
    "      pvalues = pd.Series(chi_scores[1])\n",
    "\n",
    "      # Adiciona resultado ao dicionário\n",
    "      d['Qui2'].append(scores[0])\n",
    "      d['p-Valor'].append(pvalues[0])\n",
    "\n",
    "  # Transformar dicionário em dataframe\n",
    "  chi_squared = pd.DataFrame(d)\n",
    "\n",
    "  # Formato de visualização dos números\n",
    "  pd.options.display.float_format = \"{:,.2f}\".format\n",
    "\n",
    "  # Renomear linhas do df\n",
    "  for n, l in zip(np.arange(0, len(lista), 1), lista[0:len(lista)]):\n",
    "    chi_squared = chi_squared.rename(index = {n: l})\n",
    "\n",
    "  # Mostrar em ordem crescente para o p-valor\n",
    "  chi_squared = chi_squared.sort_values(by = 'p-Valor', ascending = True)\n",
    "\n",
    "  # Visualizar df\n",
    "  return chi_squared"
   ]
  },
  {
   "cell_type": "code",
   "execution_count": 81,
   "metadata": {
    "colab": {
     "base_uri": "https://localhost:8080/",
     "height": 582
    },
    "id": "vndxc2eKW1bE",
    "outputId": "56c74df4-cca5-4fc6-b430-570394689b8b"
   },
   "outputs": [
    {
     "data": {
      "text/html": [
       "\n",
       "  <div id=\"df-2473f425-ffe9-4638-a6d2-4116adfbc290\">\n",
       "    <div class=\"colab-df-container\">\n",
       "      <div>\n",
       "<style scoped>\n",
       "    .dataframe tbody tr th:only-of-type {\n",
       "        vertical-align: middle;\n",
       "    }\n",
       "\n",
       "    .dataframe tbody tr th {\n",
       "        vertical-align: top;\n",
       "    }\n",
       "\n",
       "    .dataframe thead th {\n",
       "        text-align: right;\n",
       "    }\n",
       "</style>\n",
       "<table border=\"1\" class=\"dataframe\">\n",
       "  <thead>\n",
       "    <tr style=\"text-align: right;\">\n",
       "      <th></th>\n",
       "      <th>Qui2</th>\n",
       "      <th>p-Valor</th>\n",
       "    </tr>\n",
       "  </thead>\n",
       "  <tbody>\n",
       "    <tr>\n",
       "      <th>Gender</th>\n",
       "      <td>362.30</td>\n",
       "      <td>0.00</td>\n",
       "    </tr>\n",
       "    <tr>\n",
       "      <th>SK.React</th>\n",
       "      <td>307.46</td>\n",
       "      <td>0.00</td>\n",
       "    </tr>\n",
       "    <tr>\n",
       "      <th>Diagnosis</th>\n",
       "      <td>229.93</td>\n",
       "      <td>0.00</td>\n",
       "    </tr>\n",
       "    <tr>\n",
       "      <th>CO</th>\n",
       "      <td>229.87</td>\n",
       "      <td>0.00</td>\n",
       "    </tr>\n",
       "    <tr>\n",
       "      <th>Smoking</th>\n",
       "      <td>118.07</td>\n",
       "      <td>0.00</td>\n",
       "    </tr>\n",
       "    <tr>\n",
       "      <th>Others</th>\n",
       "      <td>105.84</td>\n",
       "      <td>0.00</td>\n",
       "    </tr>\n",
       "    <tr>\n",
       "      <th>Locality</th>\n",
       "      <td>53.72</td>\n",
       "      <td>0.00</td>\n",
       "    </tr>\n",
       "    <tr>\n",
       "      <th>HTN</th>\n",
       "      <td>33.68</td>\n",
       "      <td>0.00</td>\n",
       "    </tr>\n",
       "    <tr>\n",
       "      <th>Family.History</th>\n",
       "      <td>24.49</td>\n",
       "      <td>0.00</td>\n",
       "    </tr>\n",
       "    <tr>\n",
       "      <th>Category</th>\n",
       "      <td>8.81</td>\n",
       "      <td>0.00</td>\n",
       "    </tr>\n",
       "    <tr>\n",
       "      <th>Hyperlipi</th>\n",
       "      <td>7.15</td>\n",
       "      <td>0.01</td>\n",
       "    </tr>\n",
       "    <tr>\n",
       "      <th>Depression</th>\n",
       "      <td>1.92</td>\n",
       "      <td>0.17</td>\n",
       "    </tr>\n",
       "    <tr>\n",
       "      <th>Hypersensitivity</th>\n",
       "      <td>0.72</td>\n",
       "      <td>0.40</td>\n",
       "    </tr>\n",
       "    <tr>\n",
       "      <th>Allergies</th>\n",
       "      <td>0.52</td>\n",
       "      <td>0.47</td>\n",
       "    </tr>\n",
       "    <tr>\n",
       "      <th>Sleep</th>\n",
       "      <td>0.27</td>\n",
       "      <td>0.61</td>\n",
       "    </tr>\n",
       "    <tr>\n",
       "      <th>Life.Style</th>\n",
       "      <td>0.16</td>\n",
       "      <td>0.69</td>\n",
       "    </tr>\n",
       "    <tr>\n",
       "      <th>Marital status</th>\n",
       "      <td>0.06</td>\n",
       "      <td>0.81</td>\n",
       "    </tr>\n",
       "  </tbody>\n",
       "</table>\n",
       "</div>\n",
       "      <button class=\"colab-df-convert\" onclick=\"convertToInteractive('df-2473f425-ffe9-4638-a6d2-4116adfbc290')\"\n",
       "              title=\"Convert this dataframe to an interactive table.\"\n",
       "              style=\"display:none;\">\n",
       "        \n",
       "  <svg xmlns=\"http://www.w3.org/2000/svg\" height=\"24px\"viewBox=\"0 0 24 24\"\n",
       "       width=\"24px\">\n",
       "    <path d=\"M0 0h24v24H0V0z\" fill=\"none\"/>\n",
       "    <path d=\"M18.56 5.44l.94 2.06.94-2.06 2.06-.94-2.06-.94-.94-2.06-.94 2.06-2.06.94zm-11 1L8.5 8.5l.94-2.06 2.06-.94-2.06-.94L8.5 2.5l-.94 2.06-2.06.94zm10 10l.94 2.06.94-2.06 2.06-.94-2.06-.94-.94-2.06-.94 2.06-2.06.94z\"/><path d=\"M17.41 7.96l-1.37-1.37c-.4-.4-.92-.59-1.43-.59-.52 0-1.04.2-1.43.59L10.3 9.45l-7.72 7.72c-.78.78-.78 2.05 0 2.83L4 21.41c.39.39.9.59 1.41.59.51 0 1.02-.2 1.41-.59l7.78-7.78 2.81-2.81c.8-.78.8-2.07 0-2.86zM5.41 20L4 18.59l7.72-7.72 1.47 1.35L5.41 20z\"/>\n",
       "  </svg>\n",
       "      </button>\n",
       "      \n",
       "  <style>\n",
       "    .colab-df-container {\n",
       "      display:flex;\n",
       "      flex-wrap:wrap;\n",
       "      gap: 12px;\n",
       "    }\n",
       "\n",
       "    .colab-df-convert {\n",
       "      background-color: #E8F0FE;\n",
       "      border: none;\n",
       "      border-radius: 50%;\n",
       "      cursor: pointer;\n",
       "      display: none;\n",
       "      fill: #1967D2;\n",
       "      height: 32px;\n",
       "      padding: 0 0 0 0;\n",
       "      width: 32px;\n",
       "    }\n",
       "\n",
       "    .colab-df-convert:hover {\n",
       "      background-color: #E2EBFA;\n",
       "      box-shadow: 0px 1px 2px rgba(60, 64, 67, 0.3), 0px 1px 3px 1px rgba(60, 64, 67, 0.15);\n",
       "      fill: #174EA6;\n",
       "    }\n",
       "\n",
       "    [theme=dark] .colab-df-convert {\n",
       "      background-color: #3B4455;\n",
       "      fill: #D2E3FC;\n",
       "    }\n",
       "\n",
       "    [theme=dark] .colab-df-convert:hover {\n",
       "      background-color: #434B5C;\n",
       "      box-shadow: 0px 1px 3px 1px rgba(0, 0, 0, 0.15);\n",
       "      filter: drop-shadow(0px 1px 2px rgba(0, 0, 0, 0.3));\n",
       "      fill: #FFFFFF;\n",
       "    }\n",
       "  </style>\n",
       "\n",
       "      <script>\n",
       "        const buttonEl =\n",
       "          document.querySelector('#df-2473f425-ffe9-4638-a6d2-4116adfbc290 button.colab-df-convert');\n",
       "        buttonEl.style.display =\n",
       "          google.colab.kernel.accessAllowed ? 'block' : 'none';\n",
       "\n",
       "        async function convertToInteractive(key) {\n",
       "          const element = document.querySelector('#df-2473f425-ffe9-4638-a6d2-4116adfbc290');\n",
       "          const dataTable =\n",
       "            await google.colab.kernel.invokeFunction('convertToInteractive',\n",
       "                                                     [key], {});\n",
       "          if (!dataTable) return;\n",
       "\n",
       "          const docLinkHtml = 'Like what you see? Visit the ' +\n",
       "            '<a target=\"_blank\" href=https://colab.research.google.com/notebooks/data_table.ipynb>data table notebook</a>'\n",
       "            + ' to learn more about interactive tables.';\n",
       "          element.innerHTML = '';\n",
       "          dataTable['output_type'] = 'display_data';\n",
       "          await google.colab.output.renderOutput(dataTable, element);\n",
       "          const docLink = document.createElement('div');\n",
       "          docLink.innerHTML = docLinkHtml;\n",
       "          element.appendChild(docLink);\n",
       "        }\n",
       "      </script>\n",
       "    </div>\n",
       "  </div>\n",
       "  "
      ],
      "text/plain": [
       "                                                     Qui2  p-Valor\n",
       "Gender                                             362.30     0.00\n",
       "SK.React                                           307.46     0.00\n",
       "Diagnosis                                          229.93     0.00\n",
       "CO                                                 229.87     0.00\n",
       "Smoking                                            118.07     0.00\n",
       "Others                                             105.84     0.00\n",
       "Locality                                            53.72     0.00\n",
       "HTN                                                 33.68     0.00\n",
       "Family.History                                      24.49     0.00\n",
       "Category                                             8.81     0.00\n",
       "Hyperlipi                                            7.15     0.01\n",
       "Depression                                           1.92     0.17\n",
       "Hypersensitivity                                     0.72     0.40\n",
       "Allergies                                            0.52     0.47\n",
       "Sleep                                                0.27     0.61\n",
       "Life.Style                                     ...   0.16     0.69\n",
       "Marital status                                       0.06     0.81"
      ]
     },
     "execution_count": 81,
     "metadata": {},
     "output_type": "execute_result"
    }
   ],
   "source": [
    "qui_quadrado(df, 'Gender', df_quali[1:len(df_quali)])"
   ]
  }
 ],
 "metadata": {
  "colab": {
   "authorship_tag": "ABX9TyMjXv9qJeX6/8tqUGrY5jxF",
   "include_colab_link": true,
   "name": "teste_qui_quadrado.ipynb",
   "provenance": []
  },
  "kernelspec": {
   "display_name": "Python 3",
   "language": "python",
   "name": "python3"
  },
  "language_info": {
   "codemirror_mode": {
    "name": "ipython",
    "version": 3
   },
   "file_extension": ".py",
   "mimetype": "text/x-python",
   "name": "python",
   "nbconvert_exporter": "python",
   "pygments_lexer": "ipython3",
   "version": "3.8.8"
  }
 },
 "nbformat": 4,
 "nbformat_minor": 4
}
