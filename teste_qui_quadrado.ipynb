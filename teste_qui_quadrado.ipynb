{
  "nbformat": 4,
  "nbformat_minor": 0,
  "metadata": {
    "colab": {
      "name": "teste_qui_quadrado.ipynb",
      "provenance": [],
      "authorship_tag": "ABX9TyNgdF4gM7NJRfIq3a/gR8xI",
      "include_colab_link": true
    },
    "kernelspec": {
      "name": "python3",
      "display_name": "Python 3"
    },
    "language_info": {
      "name": "python"
    }
  },
  "cells": [
    {
      "cell_type": "markdown",
      "metadata": {
        "id": "view-in-github",
        "colab_type": "text"
      },
      "source": [
        "<a href=\"https://colab.research.google.com/github/al-lla/teste_qui_quadrado/blob/main/teste_qui_quadrado.ipynb\" target=\"_parent\"><img src=\"https://colab.research.google.com/assets/colab-badge.svg\" alt=\"Open In Colab\"/></a>"
      ]
    },
    {
      "cell_type": "markdown",
      "source": [
        "# Bibliotecas"
      ],
      "metadata": {
        "id": "661nQOjy6yZV"
      }
    },
    {
      "cell_type": "code",
      "execution_count": null,
      "metadata": {
        "id": "XuDx2yXp5uJt"
      },
      "outputs": [],
      "source": [
        "# Manipulação de Dados\n",
        "import numpy as np\n",
        "import pandas as pd\n",
        "\n",
        "# Teste Chi-Square\n",
        "from scipy.stats import chi2_contingency\n",
        "from sklearn.feature_selection import chi2"
      ]
    },
    {
      "cell_type": "markdown",
      "source": [
        "# Base de dados\n",
        "\n",
        "A base de dados utilizada nesse notebook foi retirada do [kaggle](https://www.kaggle.com/) em 06-08-2022.\n",
        "\n",
        "\n",
        "## Link para a base de dados original\n",
        "\n",
        "[The Heart Failure Prediction Dataset](https://www.kaggle.com/datasets/asgharalikhan/mortality-rate-heart-patient-pakistan-hospital?resource=download)"
      ],
      "metadata": {
        "id": "Xg7WIN0T96lr"
      }
    },
    {
      "cell_type": "code",
      "source": [
        ""
      ],
      "metadata": {
        "id": "XIRBz03k958D"
      },
      "execution_count": null,
      "outputs": []
    },
    {
      "cell_type": "code",
      "source": [
        ""
      ],
      "metadata": {
        "id": "vDDb0q8295uH"
      },
      "execution_count": null,
      "outputs": []
    },
    {
      "cell_type": "markdown",
      "source": [
        "# Criando um teste Qui-Quadrado"
      ],
      "metadata": {
        "id": "gsPvt25A61tK"
      }
    },
    {
      "cell_type": "code",
      "source": [
        "# Chi-Quadrado\n",
        "chi = pd.crosstab(local_compra['Tipo de Consumidor'], local_compra['LC'])\n",
        "chi_scores = chi2_contingency(chi)\n",
        "\n",
        "scores = pd.Series(chi_scores[0])\n",
        "pvalues = pd.Series(chi_scores[1])\n",
        "\n",
        "\n",
        "d = {'Chi2': scores, 'p-Value': pvalues}\n",
        "chi_squared = pd.DataFrame(d)\n",
        "\n",
        "# Renomear\n",
        "d = {0: 'Local de Compra'}\n",
        "chi_squared = chi_squared.rename(d)\n",
        "\n",
        "# Formato de visualização dos números\n",
        "pd.options.display.float_format = \"{:,.2f}\".format\n",
        "\n",
        "# Mostrar em ordem crescente para o p-valor\n",
        "chi_squared = chi_squared.sort_values(by = 'p-Value', ascending = True)\n",
        "\n",
        "# Visualizar df\n",
        "chi_squared"
      ],
      "metadata": {
        "id": "M-aGcHeT6MNS"
      },
      "execution_count": null,
      "outputs": []
    },
    {
      "cell_type": "markdown",
      "source": [
        "# Utilizando um loop para automatizar o teste"
      ],
      "metadata": {
        "id": "Q88WA99064np"
      }
    },
    {
      "cell_type": "code",
      "source": [
        "df = df_ribgze\n",
        "\n",
        "variavel = ['Qual é a sua idade?',\n",
        "            'Com qual gênero você se identifica?',\n",
        "            'A sua identidade de gênero é:\\\\*',\n",
        "            'Como você se declara sobre sua etnia?',\n",
        "            'Você possui alguma deficiência?',\n",
        "            'Você se considera parte da comunidade LGBTQIA+?',\n",
        "            'Você possui filhos? Se sim, nos informe quantos?',\n",
        "            'Em qual estado do Brasil você mora?',\n",
        "            'Você mora na capital do seu estado?',\n",
        "            'Para você, o local onde você mora é:',\n",
        "            'Qual modelo melhor representa suas atividades profissionais?',\n",
        "            'Qual é sua renda pessoal mensal?',\n",
        "            'Quantas pessoas moram na sua casa (Incluindo você)?',\n",
        "            'Qual é a sua renda familiar mensal?',\n",
        "            'Com que frequência você consome bebida alcoólica?',\n",
        "            'Com que frequência você compra bebida alcoólica?',\n",
        "            'Qual foi o seu gasto médio mensal com bebidas alcoólicas nos últimos meses?',\n",
        "            'Qual foi o seu gasto médio mensal com bebidas NÃO-alcoólicas nos últimos meses (chá, suco, refrigerantes, entre outros)?',\n",
        "            'Região de residência',\n",
        "            'meio_consumo_alemze',\n",
        "            'Local de Compra',\n",
        "            'classe_ibge']\n",
        "\n",
        "# Calcular Chi2 e p-valor para cada variável e colocar resultado num df\n",
        "d = {'Chi2': [], 'p-Value': []}\n",
        "\n",
        "for var in variavel:\n",
        "    \n",
        "    # Cria tabela que relaciona variável com Tipo de Consumidor\n",
        "    tab = pd.crosstab(df['Tipo de Consumidor'], df[var])\n",
        "\n",
        "    # Calcula o qui2 entre as duas variáveis\n",
        "    chi_scores = chi2_contingency(tab)\n",
        "\n",
        "    # Recupera o valor e p-value do teste\n",
        "    scores = pd.Series(chi_scores[0])\n",
        "    pvalues = pd.Series(chi_scores[1])\n",
        "\n",
        "    # Adiciona resultado ao dicionário\n",
        "    d['Chi2'].append(scores[0])\n",
        "    d['p-Value'].append(pvalues[0])\n",
        "\n",
        "# Transformar dicionário em dataframe\n",
        "chi_squared = pd.DataFrame(d)\n",
        "\n",
        "# Formato de visualização dos números\n",
        "pd.options.display.float_format = \"{:,.2f}\".format\n",
        "\n",
        "# Renomear linhas do df\n",
        "d = {0: 'Idade',\n",
        "     1: 'Gênero',\n",
        "     2: 'Identidade de Gênero',\n",
        "     3: 'Etnia',\n",
        "     4: 'Deficiência',\n",
        "     5: 'LGBTQIA+',\n",
        "     6: 'Filhos',\n",
        "     7: 'Estado de residência',\n",
        "     8: 'Local de residência no estado',\n",
        "     9: 'Local de residência na cidade',\n",
        "     10: 'Profissão',\n",
        "     11: 'Renda pessoal mensal',\n",
        "     12: 'Quantidade de residentes',\n",
        "     13: 'Renda familiar mensal',\n",
        "     14: 'Frequência consumo bebida alcoólica',\n",
        "     15: 'Frequência compra bebida alcoólica',\n",
        "     16: 'Gasto médio mensal bebida alcoólica',\n",
        "     17: 'Gasto médio mensal bebida não alcoólica',\n",
        "     18: 'Região de residência',\n",
        "     19: 'Meio de consumo além do Zé',\n",
        "     20: 'Local de compra além do Zé',\n",
        "     21: 'Classe IBGZé'}\n",
        "\n",
        "chi_squared = chi_squared.rename(d)\n",
        "\n",
        "# Mostrar em ordem crescente para o p-valor\n",
        "chi_squared = chi_squared.sort_values(by = 'p-Value', ascending = True)\n",
        "\n",
        "# Visualizar df\n",
        "chi_squared"
      ],
      "metadata": {
        "id": "ygl33J0G6NFg"
      },
      "execution_count": null,
      "outputs": []
    },
    {
      "cell_type": "code",
      "source": [
        ""
      ],
      "metadata": {
        "id": "tqN8kHdR6M3o"
      },
      "execution_count": null,
      "outputs": []
    },
    {
      "cell_type": "code",
      "source": [
        ""
      ],
      "metadata": {
        "id": "mtDE9Vgd6MCB"
      },
      "execution_count": null,
      "outputs": []
    }
  ]
}